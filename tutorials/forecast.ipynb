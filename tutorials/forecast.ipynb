{
  "nbformat": 4,
  "nbformat_minor": 5,
  "metadata": {
    "kernelspec": {
      "display_name": "torch-venv",
      "language": "python",
      "name": "torch-venv"
    },
    "language_info": {
      "codemirror_mode": {
        "name": "ipython",
        "version": 3
      },
      "file_extension": ".py",
      "mimetype": "text/x-python",
      "name": "python",
      "nbconvert_exporter": "python",
      "pygments_lexer": "ipython3",
      "version": "3.9.6"
    },
    "colab": {
      "name": "Copy of Clarify Playground.ipynb",
      "provenance": [],
      "collapsed_sections": []
    }
  },
  "cells": [
    {
      "cell_type": "markdown",
      "source": [],
      "metadata": {
        "id": "8aNOKQZASKZU"
      }
    },
    {
      "cell_type": "markdown",
      "source": [
        "![Clarify Logo](https://global-uploads.webflow.com/5e81e464dad44d3a9a32d1f4/5ed10fc3f1ff8467f4466786_logo.svg)\n",
        "\n",
        "# Introduction\n",
        "This notebook start from the point that you can get credentials, authentication token, and read data directly from Clarify, and then proceed to show how to perform forecasting and writting the result back into Clarify.\n",
        "\n",
        "I added a sentencen here.\n",
        "\n",
        "## Prerequistes \n",
        "* [Clarify](https://www.clarify.io) Account\n",
        "* Introductory tutorial [LINK]\n",
        "* `clarify-credentials.json` uploaded to this environment.\n",
        "* `pyclarify` module\n"
      ],
      "metadata": {}
    },
    {
      "cell_type": "markdown",
      "source": [
        "## Getting started\n",
        "We will be using the PyClarify SDK for authentication, reading and writing signals to the Clarify app. The SDK is mirroring the Clarify API, thus [the reference document](https://docs.clarify.io/reference) will be a good resource if you come across any issues or want to see the capabilities of the API. "
      ],
      "metadata": {
        "id": "cYHDIZHemDfW"
      }
    },
    {
      "cell_type": "code",
      "execution_count": null,
      "source": [
        "# install dependencies\n",
        "!pip install pyclarify"
      ],
      "outputs": [],
      "metadata": {
        "id": "bZLi0pmmSKZW",
        "colab": {
          "base_uri": "https://localhost:8080/"
        },
        "outputId": "17249e6f-ab93-4fb7-838c-7203bdf6b5a2"
      }
    },
    {
      "cell_type": "code",
      "execution_count": null,
      "source": [
        "from pyclarify import APIClient\n",
        "client = APIClient(\"./clarify-credentials-7.json\")"
      ],
      "outputs": [],
      "metadata": {
        "id": "pc_0NantSKZW"
      }
    },
    {
      "cell_type": "markdown",
      "source": [
        "### Reading items\n",
        "We will split reading items into two parts:\n",
        "* Reading the meta data information of your singals\n",
        "* Reading the data of your signals\n",
        "\n",
        "Due note that this can be done in a single request, however for this turorial we split them to simplify."
      ],
      "metadata": {
        "id": "PKcYNXWRm0qW"
      }
    },
    {
      "cell_type": "markdown",
      "source": [
        "#### Reading Meta data\n",
        "Your items contain information about all sorts of stuff. This can be location of the item, the engineering unit it displays, the sample interval and so forth. You can actually [create your own labels](https://docs.clarify.io/reference#signal) and add whatever you want to keep your items neat and organised. We will explore that further in the (ref)Writing items section. For now we follow the approach in the reference and create an empty request."
      ],
      "metadata": {
        "id": "A8u-s7zYn3cH"
      }
    },
    {
      "cell_type": "code",
      "execution_count": null,
      "source": [
        "from pyclarify.models.requests import ItemSelect\n",
        "empty_request = {\n",
        "  \"items\": {\n",
        "    \"include\": True, \n",
        "  }, \n",
        "  \"times\": {\n",
        "  }, \n",
        "  \"series\": {\n",
        "  }\n",
        "}\n",
        "meta_data_params = ItemSelect(**empty_request)"
      ],
      "outputs": [],
      "metadata": {
        "id": "rJZi9YXvVr6g"
      }
    },
    {
      "cell_type": "code",
      "execution_count": null,
      "source": [
        "response = client.select_items(meta_data_params)\n",
        "signal_dict = response.result.items\n",
        "for signal, meta_data in signal_dict.items():\n",
        "  print(f\"ID: {signal} \\t Name: {meta_data.name}\")"
      ],
      "outputs": [],
      "metadata": {
        "id": "qOeAxI74VhLi",
        "colab": {
          "base_uri": "https://localhost:8080/"
        },
        "outputId": "c9c73f05-e1db-44ac-db80-db78302d0678"
      }
    },
    {
      "cell_type": "markdown",
      "source": [
        "Here you can see the name and ID of the items your `clarify-credentials.json` have access to. If you were expecting other items you may want to download a different credentials file. Here are the complete list of attribute your first signal contains."
      ],
      "metadata": {
        "id": "793jjT6xpmll"
      }
    },
    {
      "cell_type": "code",
      "execution_count": null,
      "source": [
        "for value in list(signal_dict.values())[-1]:\n",
        "  print(value)"
      ],
      "outputs": [],
      "metadata": {
        "colab": {
          "base_uri": "https://localhost:8080/"
        },
        "id": "cSGecH-Dp_vt",
        "outputId": "f51cdf19-b14f-4020-90c1-42059f85bc31"
      }
    },
    {
      "cell_type": "markdown",
      "source": [
        "#### Reading data\n"
      ],
      "metadata": {
        "id": "63xdOnC0rksb"
      }
    },
    {
      "cell_type": "code",
      "execution_count": null,
      "source": [
        "signal_id = \"YOUR SIGNAL ID\"\n",
        "\n",
        "reading_data_request = {\n",
        "  \"items\": {\n",
        "    \"include\": True,\n",
        "    \"filter\": {\n",
        "      \"id\": {\n",
        "        \"$in\": [\n",
        "          signal_id\n",
        "        ]\n",
        "      }\n",
        "    }\n",
        "  },\n",
        "  \"times\": {\n",
        "    \"notBefore\": \"2021-03-13T01:00:00Z\" #starting from \n",
        "  },\n",
        "  \"series\": {\n",
        "    \"items\": True,\n",
        "    \"aggregates\": False\n",
        "  }\n",
        "}\n",
        "\n",
        "data_params = ItemSelect(**reading_data_request)"
      ],
      "outputs": [],
      "metadata": {
        "id": "XkZXG6zOZ3hG"
      }
    },
    {
      "cell_type": "code",
      "execution_count": null,
      "source": [
        "response = client.select_items(data_params)\n",
        "signal_name = list(response.result.items.values())[0].name\n",
        "times = response.result.data.times\n",
        "series = response.result.data.series"
      ],
      "outputs": [],
      "metadata": {
        "id": "ldhEUCOlavmW"
      }
    },
    {
      "cell_type": "code",
      "execution_count": null,
      "source": [
        "import pandas as pd\n",
        "df = pd.DataFrame(series)\n",
        "df.index = times\n",
        "df.head(5)"
      ],
      "outputs": [],
      "metadata": {
        "id": "SYtdgTgBebfT",
        "colab": {
          "base_uri": "https://localhost:8080/",
          "height": 204
        },
        "outputId": "4121cab9-ef77-4cce-b3cd-48069507b17d"
      }
    },
    {
      "cell_type": "code",
      "execution_count": null,
      "source": [
        "df.plot(figsize=(20, 10));"
      ],
      "outputs": [],
      "metadata": {
        "id": "x2Z6qa4AeZdx",
        "colab": {
          "base_uri": "https://localhost:8080/",
          "height": 541
        },
        "outputId": "01927fb0-3cf5-4027-a0b4-505345c703c3"
      }
    },
    {
      "cell_type": "markdown",
      "source": [
        "### Writing data\n",
        "Writing data is done in two step:\n",
        "* Writing meta data\n",
        "* Writing values\n",
        "\n",
        "Writing meta data can be done with creating a `Signal` data type and populating it with meta data. The ID of this signal needs to correspond with the ID we use for writing value to it.\n",
        "\n",
        "#### Creating a new Signal\n",
        "We will do a simple rolling window to create a new Item in the Clarify app. First we want to create the meta data for the Item with a `Signal` data type."
      ],
      "metadata": {
        "id": "KInzZN6Ht97y"
      }
    },
    {
      "cell_type": "code",
      "execution_count": null,
      "source": [
        "from pyclarify import Signal\n",
        "new_signal_name = f\"{signal_name}_rolling_mean\"\n",
        "new_signal_id = f\"{signal_id}_rolling_mean\"\n",
        "\n",
        "\n",
        "new_signal_meta_data = Signal(\n",
        "    name=new_signal_name,\n",
        "    description=f\"Rolling window with 1d resolution of the signal {signal_id}\",\n",
        "    labels={\n",
        "        \"rolling_window\": [\"1 day\"],\n",
        "        \"aggregated\": [True],\n",
        "        \"aggregated_from\": [signal_id]\n",
        "    },\n",
        ")"
      ],
      "outputs": [],
      "metadata": {
        "id": "Oo3v8yTJrWBK"
      }
    },
    {
      "cell_type": "code",
      "execution_count": null,
      "source": [
        "response = client.save_signals(\n",
        "    inputs={new_signal_id : new_signal_meta_data},\n",
        "    created_only=False #False = create new signal, True = update existing signal\n",
        ")"
      ],
      "outputs": [],
      "metadata": {
        "id": "r9WIxoBGttC3"
      }
    },
    {
      "cell_type": "code",
      "execution_count": null,
      "source": [
        "response"
      ],
      "outputs": [],
      "metadata": {
        "colab": {
          "base_uri": "https://localhost:8080/"
        },
        "id": "Qk4M5Wh3xXUa",
        "outputId": "0bfe691d-ba8d-42af-b6e0-192dff2e4658"
      }
    },
    {
      "cell_type": "markdown",
      "source": [
        "TODO: Whats with the new id in the SaveResult return"
      ],
      "metadata": {
        "id": "rVeLntqCzH4j"
      }
    },
    {
      "cell_type": "markdown",
      "source": [
        "#### Adding data to the new Signal\n",
        "We use the data we got from the read signal data step and do a simple rolling average with a 1 day interval. Then, we will write these values to the newly created signal."
      ],
      "metadata": {
        "id": "R7AD4SyPzNZ5"
      }
    },
    {
      "cell_type": "code",
      "execution_count": null,
      "source": [
        "df_rolling_mean = df.rolling('1d').mean()\n",
        "df_rolling_mean.columns=[new_signal_id]"
      ],
      "outputs": [],
      "metadata": {
        "id": "c7fWhy7rh7IN"
      }
    },
    {
      "cell_type": "code",
      "execution_count": null,
      "source": [
        "merged_df = df.join(df_rolling_mean)"
      ],
      "outputs": [],
      "metadata": {
        "id": "iQpu0712tVyy"
      }
    },
    {
      "cell_type": "code",
      "execution_count": null,
      "source": [
        "merged_df[signal_id].plot(figsize=(20, 10))\n",
        "merged_df[new_signal_id].plot(secondary_y=True,figsize=(20, 10));"
      ],
      "outputs": [],
      "metadata": {
        "id": "zV6BB_0ZsgTr",
        "colab": {
          "base_uri": "https://localhost:8080/",
          "height": 535
        },
        "outputId": "d87d7bf8-69f1-4786-a02d-9b73c83089af"
      }
    },
    {
      "cell_type": "markdown",
      "source": [
        "We use data frames (not to be confused with pandas data frames) to send values to and from Clarify. [Data frames](https://docs.clarify.io/reference#data-frame-1) separates time and values by having the same timestamps for all signal even though they might not have a value at a given timestamp. The backend handles this by not writing null values to Clarify. The signals is a dictionary consiting of signal_id as keys and values as values. "
      ],
      "metadata": {
        "id": "smZZmtIMzmYs"
      }
    },
    {
      "cell_type": "code",
      "execution_count": null,
      "source": [
        "from pyclarify import DataFrame\n",
        "times = merged_df.index.values.tolist()\n",
        "series = merged_df.to_dict(orient=\"list\")\n",
        "new_df = DataFrame(times=times, series=series)"
      ],
      "outputs": [],
      "metadata": {
        "id": "I21lixW0tAGq"
      }
    },
    {
      "cell_type": "code",
      "execution_count": null,
      "source": [
        "response = client.insert(new_df)"
      ],
      "outputs": [],
      "metadata": {
        "id": "ZERi9XjT1XjY"
      }
    },
    {
      "cell_type": "code",
      "execution_count": null,
      "source": [
        "response"
      ],
      "outputs": [],
      "metadata": {
        "colab": {
          "base_uri": "https://localhost:8080/"
        },
        "id": "A7kZUH8u1XqH",
        "outputId": "71cdb796-ca08-4842-c57d-e3464645c857"
      }
    },
    {
      "cell_type": "markdown",
      "source": [
        "SOME CONCLUSION\n",
        "\n",
        "\n",
        "NEXT STEPS"
      ],
      "metadata": {
        "id": "LDvIwmdK22Xw"
      }
    }
  ]
}