{
 "cells": [
  {
   "cell_type": "markdown",
   "source": [
    "![Clarify Logo](https://global-uploads.webflow.com/5e81e464dad44d3a9a32d1f4/5ed10fc3f1ff8467f4466786_logo.svg)\n",
    "\n",
    "## Getting started\n",
    "This notebook will show you how to get credentials, authentication token, and read data directly from Clarify. For additional information and other integration and data science tools [check out our docs](https://docs.clarify.us/docs/welcome)!\n",
    "\n",
    "### Getting credential\n",
    "\n",
    "To connect with your Clarify account you need to download your credentials from the admin panel in Clarify. \n",
    "\n",
    "1. Access the admin panel you need to click on your organization(located on the top right corner) and go to the integrations menu.\n",
    "![Admin panel](https://files.readme.io/4a58e3d-Screenshot_2021-03-24_at_16.16.18.png) \n",
    "2. Click the integration containing your signal and download the `clarify-credentials.json` file.\n",
    "![Image of credentials](https://files.readme.io/e2494d1-fe9bd7f-download-credentials.png)\n",
    "3. The final step is to upload the file to this workspace.\n"
   ],
   "metadata": {}
  },
  {
   "cell_type": "code",
   "execution_count": null,
   "source": [
    "# install dependencies\n",
    "!pip install requests_oauthlib \"jsonrpcclient[requests]\""
   ],
   "outputs": [],
   "metadata": {}
  },
  {
   "cell_type": "code",
   "execution_count": null,
   "source": [
    "# import credentials\n",
    "import json\n",
    "f = open('clarify-credentials.json',)\n",
    "credentials = json.load(f)\n",
    "f.close()"
   ],
   "outputs": [],
   "metadata": {}
  },
  {
   "cell_type": "code",
   "execution_count": null,
   "source": [
    "# get access token\n",
    "from oauthlib.oauth2 import BackendApplicationClient\n",
    "from requests_oauthlib import OAuth2Session\n",
    "\n",
    "session = OAuth2Session(client = BackendApplicationClient(client_id=credentials[\"credentials\"][\"clientId\"]))\n",
    "\n",
    "try:\n",
    "    session.fetch_token(\n",
    "        body=f'audience={credentials[\"apiUrl\"]}', \n",
    "        token_url=\"https://login.clarify.us/oauth/token\", \n",
    "        client_secret=credentials[\"credentials\"][\"clientSecret\"]\n",
    "    )\n",
    "except:\n",
    "    raise Exception('failed to get access token: {}'.format(format_exc()))\n",
    "\n",
    "token = session.access_token\n",
    "\n",
    "# NB! Does not produce valid token for data retrieval until Public API is finished."
   ],
   "outputs": [],
   "metadata": {}
  },
  {
   "cell_type": "code",
   "execution_count": null,
   "source": [
    "# id of item (found in item view)\n",
    "item_id = \"\" "
   ],
   "outputs": [],
   "metadata": {}
  },
  {
   "cell_type": "code",
   "execution_count": null,
   "source": [
    "# get data \n",
    "from jsonrpcclient.clients.http_client import HTTPClient\n",
    "from jsonrpcclient.requests import Request\n",
    "\n",
    "url_endpoint = \"https://clarifyapp.clarify.us/api/timeseries/rpc\" # api endpoint\n",
    "method = \"timeseries.Floats\" # rpc method call\n",
    "\n",
    "client = HTTPClient(url_endpoint)\n",
    "headers = {\n",
    "    \"content-type\": \"application/json\",\n",
    "    \"authorization\": \"Bearer \" + token\n",
    "}\n",
    "\n",
    "client.session.headers.update(headers)\n",
    "\n",
    "rpc_text = Request(\n",
    "    method,\n",
    "    query = {\n",
    "        \"id\": item_id\n",
    "    },\n",
    "    window = {\n",
    "        \"from\": \"2017-01-20T00:00:00Z\",\n",
    "        \"to\": \"2021-12-21T00:00:00Z\"\n",
    "    }\n",
    ")\n",
    "\n",
    "res = client.send(rpc_text)\n",
    "result = res.data.result"
   ],
   "outputs": [],
   "metadata": {}
  },
  {
   "cell_type": "code",
   "execution_count": null,
   "source": [
    "import pandas as pd\n",
    "import numpy as np\n",
    "\n",
    "# reformat data\n",
    "data = []\n",
    "for section in result[\"sections\"]:\n",
    "    data += section\n",
    "\n",
    "ts = np.array(data)\n",
    "time, value = pd.to_datetime(ts[:,0]), pd.to_numeric(ts[:,1])\n",
    "series = pd.Series(value, index=time)\n",
    "print(series.head(5))\n",
    "series.plot();"
   ],
   "outputs": [],
   "metadata": {}
  }
 ],
 "metadata": {
  "kernelspec": {
   "display_name": "torch-venv",
   "language": "python",
   "name": "torch-venv"
  },
  "language_info": {
   "codemirror_mode": {
    "name": "ipython",
    "version": 3
   },
   "file_extension": ".py",
   "mimetype": "text/x-python",
   "name": "python",
   "nbconvert_exporter": "python",
   "pygments_lexer": "ipython3",
   "version": "3.9.6"
  }
 },
 "nbformat": 4,
 "nbformat_minor": 5
}