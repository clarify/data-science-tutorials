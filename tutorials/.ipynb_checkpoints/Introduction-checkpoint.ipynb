{
 "cells": [
  {
   "cell_type": "markdown",
   "id": "c4cf378f",
   "metadata": {
    "id": "8aNOKQZASKZU"
   },
   "source": [
    "![Clarify Logo](https://global-uploads.webflow.com/5e81e464dad44d3a9a32d1f4/5ed10fc3f1ff8467f4466786_logo.svg)\n",
    "\n",
    "# Introduction\n",
    "This notebook will show you how to get credentials, authentication token, and read data directly from Clarify. For additional information and other integration and data science tools [check out our docs](https://docs.clarify.us/docs/welcome)!\n",
    "\n",
    "## Prerequistes \n",
    "* [Clarify](https://www.clarify.io) Account\n",
    "* Integration with Items (some tutorial)\n",
    "\n",
    "### Getting credentials\n",
    "\n",
    "To connect with your Clarify account you need to download your credentials from the admin panel in Clarify. \n",
    "\n",
    "1. Access the admin panel you need to click on your organization(located on the top right corner) and go to the integrations menu.\n",
    "![Admin panel](https://files.readme.io/4a58e3d-Screenshot_2021-03-24_at_16.16.18.png) \n",
    "2. Click the integration containing your signal and download the `clarify-credentials.json` file.\n",
    "![Image of credentials](https://files.readme.io/e2494d1-fe9bd7f-download-credentials.png)\n",
    "3. The final step is to upload the file to this workspace.\n"
   ]
  },
  {
   "cell_type": "markdown",
   "id": "3fc22ea7",
   "metadata": {
    "id": "cYHDIZHemDfW"
   },
   "source": [
    "## Getting started\n",
    "We will be using the PyClarify SDK for authentication, reading and writing signals to the Clarify app. The SDK is mirroring the Clarify API, thus [the reference document](https://docs.clarify.io/reference) will be a good resource if you come across any issues or want to see the capabilities of the API. "
   ]
  },
  {
   "cell_type": "code",
   "execution_count": null,
   "id": "b5086f95",
   "metadata": {
    "colab": {
     "base_uri": "https://localhost:8080/"
    },
    "id": "bZLi0pmmSKZW",
    "outputId": "17249e6f-ab93-4fb7-838c-7203bdf6b5a2"
   },
   "outputs": [],
   "source": [
    "# install dependencies\n",
    "!pip install pyclarify"
   ]
  },
  {
   "cell_type": "code",
   "execution_count": 2,
   "id": "abfb2826",
   "metadata": {
    "id": "pc_0NantSKZW"
   },
   "outputs": [
    {
     "ename": "ImportError",
     "evalue": "cannot import name 'APIClient' from 'pyclarify' (/Library/Frameworks/Python.framework/Versions/3.9/lib/python3.9/site-packages/pyclarify/__init__.py)",
     "output_type": "error",
     "traceback": [
      "\u001b[0;31m---------------------------------------------------------------------------\u001b[0m",
      "\u001b[0;31mImportError\u001b[0m                               Traceback (most recent call last)",
      "\u001b[0;32m/var/folders/f5/hf6_szy54kg4s94sn3fy6m9w0000gn/T/ipykernel_81755/23965897.py\u001b[0m in \u001b[0;36m<module>\u001b[0;34m\u001b[0m\n\u001b[0;32m----> 1\u001b[0;31m \u001b[0;32mfrom\u001b[0m \u001b[0mpyclarify\u001b[0m \u001b[0;32mimport\u001b[0m \u001b[0mAPIClient\u001b[0m\u001b[0;34m\u001b[0m\u001b[0;34m\u001b[0m\u001b[0m\n\u001b[0m\u001b[1;32m      2\u001b[0m \u001b[0mclient\u001b[0m \u001b[0;34m=\u001b[0m \u001b[0mAPIClient\u001b[0m\u001b[0;34m(\u001b[0m\u001b[0;34m\"./clarify-credentials-7.json\"\u001b[0m\u001b[0;34m)\u001b[0m\u001b[0;34m\u001b[0m\u001b[0;34m\u001b[0m\u001b[0m\n",
      "\u001b[0;31mImportError\u001b[0m: cannot import name 'APIClient' from 'pyclarify' (/Library/Frameworks/Python.framework/Versions/3.9/lib/python3.9/site-packages/pyclarify/__init__.py)"
     ]
    }
   ],
   "source": [
    "from pyclarify import APIClient\n",
    "client = APIClient(\"./clarify-credentials-7.json\")"
   ]
  },
  {
   "cell_type": "markdown",
   "id": "c5671cbd",
   "metadata": {
    "id": "PKcYNXWRm0qW"
   },
   "source": [
    "### Reading items\n",
    "We will split reading items into two parts:\n",
    "* Reading the meta data information of your singals\n",
    "* Reading the data of your signals\n",
    "\n",
    "Due note that this can be done in a single request, however for this turorial we split them to simplify."
   ]
  },
  {
   "cell_type": "markdown",
   "id": "0808a26c",
   "metadata": {
    "id": "A8u-s7zYn3cH"
   },
   "source": [
    "#### Reading Meta data\n",
    "Your items contain information about all sorts of stuff. This can be location of the item, the engineering unit it displays, the sample interval and so forth. You can actually [create your own labels](https://docs.clarify.io/reference#signal) and add whatever you want to keep your items neat and organised. We will explore that further in the (ref)Writing items section. For now we follow the approach in the reference and create an empty request."
   ]
  },
  {
   "cell_type": "code",
   "execution_count": null,
   "id": "0701fdc5",
   "metadata": {
    "id": "rJZi9YXvVr6g"
   },
   "outputs": [],
   "source": [
    "from pyclarify.models.requests import ItemSelect\n",
    "empty_request = {\n",
    "  \"items\": {\n",
    "    \"include\": True, \n",
    "  }, \n",
    "  \"times\": {\n",
    "  }, \n",
    "  \"series\": {\n",
    "  }\n",
    "}\n",
    "meta_data_params = ItemSelect(**empty_request)"
   ]
  },
  {
   "cell_type": "code",
   "execution_count": null,
   "id": "894bff84",
   "metadata": {
    "colab": {
     "base_uri": "https://localhost:8080/"
    },
    "id": "qOeAxI74VhLi",
    "outputId": "c9c73f05-e1db-44ac-db80-db78302d0678"
   },
   "outputs": [],
   "source": [
    "response = client.select_items(meta_data_params)\n",
    "signal_dict = response.result.items\n",
    "for signal, meta_data in signal_dict.items():\n",
    "  print(f\"ID: {signal} \\t Name: {meta_data.name}\")"
   ]
  },
  {
   "cell_type": "markdown",
   "id": "c094e282",
   "metadata": {
    "id": "793jjT6xpmll"
   },
   "source": [
    "Here you can see the name and ID of the items your `clarify-credentials.json` have access to. If you were expecting other items you may want to download a different credentials file. Here are the complete list of attribute your first signal contains."
   ]
  },
  {
   "cell_type": "code",
   "execution_count": null,
   "id": "894c2476",
   "metadata": {
    "colab": {
     "base_uri": "https://localhost:8080/"
    },
    "id": "cSGecH-Dp_vt",
    "outputId": "f51cdf19-b14f-4020-90c1-42059f85bc31"
   },
   "outputs": [],
   "source": [
    "for value in list(signal_dict.values())[-1]:\n",
    "  print(value)"
   ]
  },
  {
   "cell_type": "markdown",
   "id": "29bbd434",
   "metadata": {
    "id": "63xdOnC0rksb"
   },
   "source": [
    "#### Reading data\n"
   ]
  },
  {
   "cell_type": "code",
   "execution_count": null,
   "id": "7aee1ccf",
   "metadata": {
    "id": "XkZXG6zOZ3hG"
   },
   "outputs": [],
   "source": [
    "signal_id = \"YOUR SIGNAL ID\"\n",
    "\n",
    "reading_data_request = {\n",
    "  \"items\": {\n",
    "    \"include\": True,\n",
    "    \"filter\": {\n",
    "      \"id\": {\n",
    "        \"$in\": [\n",
    "          signal_id\n",
    "        ]\n",
    "      }\n",
    "    }\n",
    "  },\n",
    "  \"times\": {\n",
    "    \"notBefore\": \"2021-03-13T01:00:00Z\" #starting from \n",
    "  },\n",
    "  \"series\": {\n",
    "    \"items\": True,\n",
    "    \"aggregates\": False\n",
    "  }\n",
    "}\n",
    "\n",
    "data_params = ItemSelect(**reading_data_request)"
   ]
  },
  {
   "cell_type": "code",
   "execution_count": null,
   "id": "ad9f3ed1",
   "metadata": {
    "id": "ldhEUCOlavmW"
   },
   "outputs": [],
   "source": [
    "response = client.select_items(data_params)\n",
    "signal_name = list(response.result.items.values())[0].name\n",
    "times = response.result.data.times\n",
    "series = response.result.data.series"
   ]
  },
  {
   "cell_type": "code",
   "execution_count": null,
   "id": "55981c98",
   "metadata": {
    "colab": {
     "base_uri": "https://localhost:8080/",
     "height": 204
    },
    "id": "SYtdgTgBebfT",
    "outputId": "4121cab9-ef77-4cce-b3cd-48069507b17d"
   },
   "outputs": [],
   "source": [
    "import pandas as pd\n",
    "df = pd.DataFrame(series)\n",
    "df.index = times\n",
    "df.head(5)"
   ]
  },
  {
   "cell_type": "code",
   "execution_count": null,
   "id": "7f670db9",
   "metadata": {
    "colab": {
     "base_uri": "https://localhost:8080/",
     "height": 541
    },
    "id": "x2Z6qa4AeZdx",
    "outputId": "01927fb0-3cf5-4027-a0b4-505345c703c3"
   },
   "outputs": [],
   "source": [
    "df.plot(figsize=(20, 10));"
   ]
  },
  {
   "cell_type": "markdown",
   "id": "f0cb542b",
   "metadata": {
    "id": "KInzZN6Ht97y"
   },
   "source": [
    "### Writing data\n",
    "Writing data is done in two step:\n",
    "* Writing meta data\n",
    "* Writing values\n",
    "\n",
    "Writing meta data can be done with creating a `Signal` data type and populating it with meta data. The ID of this signal needs to correspond with the ID we use for writing value to it.\n",
    "\n",
    "#### Creating a new Signal\n",
    "We will do a simple rolling window to create a new Item in the Clarify app. First we want to create the meta data for the Item with a `Signal` data type."
   ]
  },
  {
   "cell_type": "code",
   "execution_count": null,
   "id": "aecf7910",
   "metadata": {
    "id": "Oo3v8yTJrWBK"
   },
   "outputs": [],
   "source": [
    "from pyclarify import Signal\n",
    "new_signal_name = f\"{signal_name}_rolling_mean\"\n",
    "new_signal_id = f\"{signal_id}_rolling_mean\"\n",
    "\n",
    "\n",
    "new_signal_meta_data = Signal(\n",
    "    name=new_signal_name,\n",
    "    description=f\"Rolling window with 1d resolution of the signal {signal_id}\",\n",
    "    labels={\n",
    "        \"rolling_window\": [\"1 day\"],\n",
    "        \"aggregated\": [True],\n",
    "        \"aggregated_from\": [signal_id]\n",
    "    },\n",
    ")"
   ]
  },
  {
   "cell_type": "code",
   "execution_count": null,
   "id": "2a7a2c74",
   "metadata": {
    "id": "r9WIxoBGttC3"
   },
   "outputs": [],
   "source": [
    "response = client.save_signals(\n",
    "    inputs={new_signal_id : new_signal_meta_data},\n",
    "    created_only=False #False = create new signal, True = update existing signal\n",
    ")"
   ]
  },
  {
   "cell_type": "code",
   "execution_count": null,
   "id": "95623702",
   "metadata": {
    "colab": {
     "base_uri": "https://localhost:8080/"
    },
    "id": "Qk4M5Wh3xXUa",
    "outputId": "0bfe691d-ba8d-42af-b6e0-192dff2e4658"
   },
   "outputs": [],
   "source": [
    "response"
   ]
  },
  {
   "cell_type": "markdown",
   "id": "347c4a0e",
   "metadata": {
    "id": "rVeLntqCzH4j"
   },
   "source": [
    "TODO: Whats with the new id in the SaveResult return"
   ]
  },
  {
   "cell_type": "markdown",
   "id": "ad72b514",
   "metadata": {
    "id": "R7AD4SyPzNZ5"
   },
   "source": [
    "#### Adding data to the new Signal\n",
    "We use the data we got from the read signal data step and do a simple rolling average with a 1 day interval. Then, we will write these values to the newly created signal."
   ]
  },
  {
   "cell_type": "code",
   "execution_count": null,
   "id": "9cabb448",
   "metadata": {
    "id": "c7fWhy7rh7IN"
   },
   "outputs": [],
   "source": [
    "df_rolling_mean = df.rolling('1d').mean()\n",
    "df_rolling_mean.columns=[new_signal_id]"
   ]
  },
  {
   "cell_type": "code",
   "execution_count": null,
   "id": "8e42bc16",
   "metadata": {
    "id": "iQpu0712tVyy"
   },
   "outputs": [],
   "source": [
    "merged_df = df.join(df_rolling_mean)"
   ]
  },
  {
   "cell_type": "code",
   "execution_count": null,
   "id": "262969cc",
   "metadata": {
    "colab": {
     "base_uri": "https://localhost:8080/",
     "height": 535
    },
    "id": "zV6BB_0ZsgTr",
    "outputId": "d87d7bf8-69f1-4786-a02d-9b73c83089af"
   },
   "outputs": [],
   "source": [
    "merged_df[signal_id].plot(figsize=(20, 10))\n",
    "merged_df[new_signal_id].plot(secondary_y=True,figsize=(20, 10));"
   ]
  },
  {
   "cell_type": "markdown",
   "id": "dcb220c1",
   "metadata": {
    "id": "smZZmtIMzmYs"
   },
   "source": [
    "We use data frames (not to be confused with pandas data frames) to send values to and from Clarify. [Data frames](https://docs.clarify.io/reference#data-frame-1) separates time and values by having the same timestamps for all signal even though they might not have a value at a given timestamp. The backend handles this by not writing null values to Clarify. The signals is a dictionary consiting of signal_id as keys and values as values. "
   ]
  },
  {
   "cell_type": "code",
   "execution_count": null,
   "id": "4f8d6eff",
   "metadata": {
    "id": "I21lixW0tAGq"
   },
   "outputs": [],
   "source": [
    "from pyclarify import DataFrame\n",
    "times = merged_df.index.values.tolist()\n",
    "series = merged_df.to_dict(orient=\"list\")\n",
    "new_df = DataFrame(times=times, series=series)"
   ]
  },
  {
   "cell_type": "code",
   "execution_count": null,
   "id": "e18cc7ce",
   "metadata": {
    "id": "ZERi9XjT1XjY"
   },
   "outputs": [],
   "source": [
    "response = client.insert(new_df)"
   ]
  },
  {
   "cell_type": "code",
   "execution_count": null,
   "id": "319660bc",
   "metadata": {
    "colab": {
     "base_uri": "https://localhost:8080/"
    },
    "id": "A7kZUH8u1XqH",
    "outputId": "71cdb796-ca08-4842-c57d-e3464645c857"
   },
   "outputs": [],
   "source": [
    "response"
   ]
  },
  {
   "cell_type": "markdown",
   "id": "8846f3b2",
   "metadata": {
    "id": "LDvIwmdK22Xw"
   },
   "source": [
    "SOME CONCLUSION\n",
    "\n",
    "\n",
    "NEXT STEPS"
   ]
  }
 ],
 "metadata": {
  "colab": {
   "collapsed_sections": [],
   "name": "Copy of Clarify Playground.ipynb",
   "provenance": []
  },
  "kernelspec": {
   "display_name": "Python 3",
   "language": "python",
   "name": "python3"
  },
  "language_info": {
   "codemirror_mode": {
    "name": "ipython",
    "version": 3
   },
   "file_extension": ".py",
   "mimetype": "text/x-python",
   "name": "python",
   "nbconvert_exporter": "python",
   "pygments_lexer": "ipython3",
   "version": "3.9.6"
  }
 },
 "nbformat": 4,
 "nbformat_minor": 5
}
