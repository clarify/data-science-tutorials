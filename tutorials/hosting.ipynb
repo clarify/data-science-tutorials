{
 "cells": [
  {
   "cell_type": "markdown",
   "source": [
    "# Hosting \n",
    "\n",
    "In this tutorial we will create a docker container and deploy it to Heroku. The docker container will contain code from the previous tutorials and write data to your Clarify integration. \n",
    "\n",
    "## Prerequisites\n",
    "It is highly recommended that you have gone through the [Introduction Notebook]() for the basics of using PyClarify. This tutorial is will not \n",
    "\n",
    "## What do you need\n",
    "1. [Google Cloud Account](https://cloud.google.com/free)\n",
    "2. [Google Cloud SDK](https://cloud.google.com/sdk/docs/install)\n",
    "3. [Docker](https://www.docker.com/products/docker-desktop)\n",
    "\n",
    "## What we will do\n",
    "1. \n",
    "2. \n",
    "3. [Google Cloud Hosting](#hosting)\n",
    "\n",
    "<hr>\n",
    "Other resources:\n",
    "- \n",
    "- "
   ],
   "metadata": {}
  },
  {
   "cell_type": "markdown",
   "source": [
    "## Getting started\n",
    "The first step is downloading both [Docker](https://www.docker.com/products/docker-desktop) and [Google Cloud SDK](https://cloud.google.com/sdk/docs/install).\n",
    "\n",
    "Once you have installed them both, we can start by creating the package we want to host. (ALEXIA'S STUFF COMES NEXT)"
   ],
   "metadata": {}
  },
  {
   "cell_type": "markdown",
   "source": [
    "<a name=\"hosting\"></a>\n",
    "# Google Cloud Hosting\n",
    "Now that we have a working docker container, we can push it to a cloud environment. We will use the Google Cloud Run environment to host our docker image. Google has great guides on [adding you docker image to their registry](https://cloud.google.com/container-registry/docs/pushing-and-pulling) and [deploying it on their run service](https://cloud.google.com/run/docs/deploying#command-line). However, for closing the loop we will provide a guide on how to use their system. \n",
    "\n",
    "> Keep in mind that their systems may change in the future and their guides should be the source of truth!"
   ],
   "metadata": {}
  },
  {
   "cell_type": "markdown",
   "source": [
    "## Getting started\n",
    "Now that we have a working docker container, we can push it to a cloud environment. As mentioned in the beginning we will be using Google Cloud to do this. Make sure you have downloaded [Google Cloud SDK](https://cloud.google.com/sdk/docs/install) before we start.\n",
    "\n",
    "> Check that it is installed correctly by running `gcloud version`.\n",
    "\n",
    "Before we connect to your google account in with the SDK, you can [create a project](https://console.cloud.google.com/projectcreate) so that we can connect to the project as well. \n",
    "\n",
    "> If you have multiple Google Accounts, make sure that you are logged into the correct one.\n",
    "\n",
    "Once that is completed you can connect to your google account running `gcloud auth login` in the terminal. \n",
    "\n",
    "For the rest of this tutorial we will use `YOUR-PROJECT-ID` and `YOUR-IMAGE-TAG` as placeholders for what you called your newly created project in google cloud and what you tag your image with in docker. "
   ],
   "metadata": {}
  },
  {
   "cell_type": "markdown",
   "source": [
    "## Workflow\n",
    "Hosting a docker image on google cloud is done in two steps:\n",
    "1. Publishing the image\n",
    "2. Pushing the published image to a run environment\n",
    "\n",
    "\n",
    "### Publishing the image\n",
    "For the first step we start by building the image and adding a `tag` to it:\n",
    "```sh\n",
    "$ docker build . --tag YOUR-IMAGE-TAG\n",
    "```\n",
    "Now that we have a built image with a tag, we can set its target path in [Container Registry](https://cloud.google.com/container-registry/docs/pushing-and-pulling#add-registry), including the gcr.io registry host and the project ID of `YOUR-PROJECT-ID`:\n",
    "```sh\n",
    "$ docker tag YOUR-IMAGE-TAG gcr.io/YOUR-PROJECT-ID/YOUR-IMAGE-TAG\n",
    "```\n",
    "The final step of publishing the image is to push it to the registry. To do this just run:\n",
    "```sh\n",
    "$ docker push gcr.io/YOUR-PROJECT-ID/YOUR-IMAGE-TAG\n",
    "```\n",
    "Now your image is published! The Container Registry adds the registry to your project, creates a storage bucket for the registry, and stores the image. For more information please refer to [their guides](https://cloud.google.com/container-registry/docs/pushing-and-pulling).\n",
    "\n",
    "### Pushing the published image to a run environment\n",
    "We will use the [Cloud Run](https://cloud.google.com/run) to run the image that we have published.\n",
    "\n",
    "```sh\n",
    "$ gcloud run deploy YOUR-IMAGE-TAG --image gcr.io/YOUR-PROJECT-ID/YOUR-IMAGE-TAG\n",
    "```\n",
    "\n",
    "After you run this command you will be asked three questions. They are pretty self explainatory, but if you want to follow completely run:\n",
    "- 1 (enter)\n",
    "- 13 (enter)\n",
    "- y (enter)\n",
    "\n",
    "> Google provides a quickstart guide for building and deploying python services [here](https://cloud.google.com/run/docs/quickstarts/build-and-deploy/python)."
   ],
   "metadata": {}
  },
  {
   "cell_type": "markdown",
   "source": [
    "## Caveats\n",
    "Google Cloud Run uses [autoscaling](https://cloud.google.com/run#all-features) which means that it scales from zero to N containers depending on the traffic recieved. This means that if your site recieves no traffic it will scale down to zero instances after 15 minutes and thus stop sending data with the background scheduler. As this containers main purpose is write to Clarify with a background scheduler, we want it to be only one container at all times. We can set this in [the console](https://cloud.google.com/run/docs/configuring/min-instances#setting) or with the command:\n",
    "\n",
    "```sh\n",
    "$ gcloud run deploy YOUR-IMAGE-TAG --image gcr.io/YOUR-PROJECT-ID/YOUR-IMAGE-TAG --min-instances 1 --max-instances 1\n",
    "```"
   ],
   "metadata": {}
  }
 ],
 "metadata": {
  "orig_nbformat": 4,
  "kernelspec": {
   "name": "torch",
   "display_name": "torch",
   "language": "python"
  },
  "language_info": {
   "name": "python",
   "version": "3.9.6",
   "mimetype": "text/x-python",
   "codemirror_mode": {
    "name": "ipython",
    "version": 3
   },
   "pygments_lexer": "ipython3",
   "nbconvert_exporter": "python",
   "file_extension": ".py"
  }
 },
 "nbformat": 4,
 "nbformat_minor": 2
}