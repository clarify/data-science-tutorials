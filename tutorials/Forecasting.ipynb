{
  "cells": [
    {
      "cell_type": "markdown",
      "id": "05QhdnjFZN6C",
      "metadata": {
        "id": "05QhdnjFZN6C"
      },
      "source": [
        "![Clarify Logo](https://global-uploads.webflow.com/5e81e464dad44d3a9a32d1f4/5ed10fc3f1ff8467f4466786_logo.svg)\n",
        "\n",
        "\n",
        "# Welcome to the Clarify Forecast tutorial! 📈 \n",
        "\n",
        "<img src=\"https://raw.githubusercontent.com/clarify/data-science-tutorials/main/media/forecast/analysis_work.jpg\" alt=\"Computer with time series data and joystick\" width=\"400\" />\n",
        "\n",
        "\n",
        "\n",
        "\n"
      ]
    },
    {
      "cell_type": "markdown",
      "id": "34Q9AkUYZN6G",
      "metadata": {
        "id": "34Q9AkUYZN6G"
      },
      "source": [
        "# Prerequisites \n",
        "This tutorial builds up on the [basic tutorial on using Python with Clarify](https://colab.research.google.com/github/clarify/data-science-tutorials/blob/main/tutorials/Introduction.ipynb). Read the basic tutorial for more details about how to get the credentials from Clarify, read data and meta-data using the API, write data back and visualize on Clarify.\n",
        "\n",
        "\n",
        "## What you need\n",
        "* [Clarify](https://www.clarify.io) Account (with admin rights)\n",
        "* Credential file `clarify-credentials.json` from Clarify, available to the environment runnning this notebook\n"
      ]
    },
    {
      "cell_type": "markdown",
      "id": "woM82tZzZN6H",
      "metadata": {
        "id": "woM82tZzZN6H"
      },
      "source": [
        "# What we will do\n",
        "\n",
        "1. [Initial setup](#init)\n",
        "    - [Reading meta-data](#init_read_meta)\n",
        "    - [Reading data](#init_read_data)\n",
        "2. [Forecasting](#apply)\n",
        "    - [Single signal forecasting](#apply-single)\n",
        "3. [Write the forecast in Clarify](#write)\n",
        "4. [Visualize the forecast result and collaborate with Clarify](#visualize)\n",
        "\n",
        "---\n",
        "Other resources:\n",
        "* [Other tutorials on using Python with Clarify](https://github.com/clarify/data-science-tutorials/)\n",
        "* [API reference](https://docs.clarify.io/reference/http)\n",
        "* [SDK documentation](https://clarify.github.io/pyclarify/)\n",
        "* [Merlion - time-series forecast and anomaly detection library](https://opensource.salesforce.com/Merlion/v1.0.1/tutorials.html)"
      ]
    },
    {
      "cell_type": "markdown",
      "id": "cYHDIZHemDfW",
      "metadata": {
        "id": "cYHDIZHemDfW"
      },
      "source": [
        "# <a name=\"init\"></a>  Initial setup\n",
        "We will be using the PyClarify SDK for authentication, reading and writing signals to Clarify. The SDK is mirroring the Clarify API, thus [the reference document](https://docs.clarify.io/api/1.0/) will be a good resource if you come across any issues or want to see the capabilities of the API. "
      ]
    },
    {
      "cell_type": "code",
      "execution_count": null,
      "id": "bZLi0pmmSKZW",
      "metadata": {
        "id": "bZLi0pmmSKZW"
      },
      "outputs": [],
      "source": [
        "# install dependencies\n",
        "!pip install requests pyclarify==0.3.5 pandas matplotlib salesforce-merlion prophet"
      ]
    },
    {
      "cell_type": "code",
      "execution_count": null,
      "id": "pc_0NantSKZW",
      "metadata": {
        "id": "pc_0NantSKZW"
      },
      "outputs": [],
      "source": [
        "from pyclarify import ClarifyClient\n",
        "client = ClarifyClient(\"./clarify-credentials.json\")"
      ]
    },
    {
      "cell_type": "markdown",
      "id": "A8u-s7zYn3cH",
      "metadata": {
        "id": "A8u-s7zYn3cH"
      },
      "source": [
        "## <a name=\"init_read_meta\"></a> Reading Meta data\n",
        "You can retrieve the items data and meta-data from the Clarify API. This is useful in case you want to have a list of items that you have access in the script you are running. The `item_id` is necessary when retrieving data for a particular time-series from Clarify."
      ]
    },
    {
      "cell_type": "markdown",
      "id": "ULrwkvE0ZN6K",
      "metadata": {
        "id": "ULrwkvE0ZN6K"
      },
      "source": [
        "To obtain the result we call the method `select_items` which returns a JSON with a field `result` and sub-field `items` with a dictionary of item ids and metadata. "
      ]
    },
    {
      "cell_type": "code",
      "execution_count": null,
      "id": "qOeAxI74VhLi",
      "metadata": {
        "id": "qOeAxI74VhLi"
      },
      "outputs": [],
      "source": [
        "response = client.select_items(include_dataframe=False)\n",
        "item_dict = response.result.items\n",
        "for item_id, meta_data in item_dict.items():\n",
        "  print(f\"ID: {item_id} \\t Name: {meta_data.name}\")"
      ]
    },
    {
      "cell_type": "markdown",
      "id": "1yjg0mStZN6L",
      "metadata": {
        "id": "1yjg0mStZN6L"
      },
      "source": [
        "The default behavior of the `select_items` method is to return a list of items with maximum_size defined by the API. If you want to list all items that you have access to, you can iterate over the result list and make subsequent calls to the API asking to skip an amount of items given by the `skip` parameter."
      ]
    },
    {
      "cell_type": "markdown",
      "id": "63xdOnC0rksb",
      "metadata": {
        "id": "63xdOnC0rksb"
      },
      "source": [
        "## <a name=\"init_read_data\"></a> Reading data\n",
        "\n",
        "Now, given the list of items that you have access to, you can choose one id of interest to retrieve data from."
      ]
    },
    {
      "cell_type": "code",
      "execution_count": null,
      "id": "XkZXG6zOZ3hG",
      "metadata": {
        "id": "XkZXG6zOZ3hG"
      },
      "outputs": [],
      "source": [
        "item_id = \"<item_id>\" #change for the you item_id\n",
        "starting_date = \"<starting_date\" # example \"2021-08-07T07:14:19Z\"\n",
        "\n",
        "# create a filter\n",
        "from pyclarify import query\n",
        "filter = query.Filter(fields={\"id\": query.In(value=[item_id])})\n",
        "\n",
        "response = client.select_items(filter=filter, not_before=starting_date)\n",
        "item_meta = list(response.result.items.values())[0]\n",
        "item_name = item_meta.name\n",
        "item_location = item_meta.labels['location'][0]\n",
        "times = response.result.data.times\n",
        "series = response.result.data.series"
      ]
    },
    {
      "cell_type": "markdown",
      "id": "hXLpeu22ZN6M",
      "metadata": {
        "id": "hXLpeu22ZN6M"
      },
      "source": [
        "We proceed by converting the data from our internal `DataFrame` structure to `pandas.DataFrame` in order to use in the forecasting library. We also discard that timezone information because the forecasting library does not support timezones. The following figure shows an example graph that we obtained by running the code for plotting with a particular time-series data using pandas `df.plot` function.\n",
        "\n",
        "<img src=\"https://raw.githubusercontent.com/clarify/data-science-tutorials/main/media/forecast/example_data_graph.png\" alt=\"Example of time-series plotted using matplotlib\" style=\"width: 40%;\" />"
      ]
    },
    {
      "cell_type": "code",
      "execution_count": null,
      "id": "SYtdgTgBebfT",
      "metadata": {
        "id": "SYtdgTgBebfT"
      },
      "outputs": [],
      "source": [
        "import pandas as pd\n",
        "df = pd.DataFrame(series)\n",
        "df.index = [time.replace(tzinfo=None) for time in times]\n",
        "df.plot()\n",
        "print(len(times))"
      ]
    },
    {
      "cell_type": "markdown",
      "id": "3FGj41cJZN6N",
      "metadata": {
        "id": "3FGj41cJZN6N"
      },
      "source": [
        "# <a name=\"apply\"></a> Forecasting\n",
        "\n",
        "Given a sequence of values in a time window, we might wonder what could be the likely next values in our time-series. The task of forecasting values of a timeseries is about using the observed values until a certain point of time to predict possible future values. \n",
        "\n",
        "In order to do so, we will start by exploring one of the forecast models available in the library [`merlion`](https://opensource.salesforce.com/Merlion/v1.0.0/index.html). This library encapsulates multiple forecast methods, for single signals, multiple signals, allowing for modular experimentation with the algorithms, as well as composing and creating ensembles. We will only show the basic functionality here."
      ]
    },
    {
      "cell_type": "markdown",
      "id": "-8PRr-8uZN6N",
      "metadata": {
        "id": "-8PRr-8uZN6N"
      },
      "source": [
        "## <a name=\"apply_single\"></a> Single signal forecasting\n",
        "\n"
      ]
    },
    {
      "cell_type": "markdown",
      "id": "4XFSa53VZN6O",
      "metadata": {
        "id": "4XFSa53VZN6O"
      },
      "source": [
        "The basic elements for using the `merlion` forecasting library is the `TimeSeries` data structure, transformations `merlion.transform` applied to the data, and the configuration and forecasting model. In this case we choose to use the `Prophet` forecasting model, which means that we need to instantiate a `ProphetConfig` object, defining for example the maximum forecast steps, seasonality and transformation on the data (which is this case is the `Identity` transformation). \n",
        "\n",
        "In order to visualize and validade the forecast we split the original time-series data into *training* and *testing* splits. The variable `number_test_points` is used to define the number of points to be assigned for testing, while the remaining part of the split is used for training. The model is trained using only the *training* split, and then evaluated in the held-out *testing* split.\n",
        "\n",
        "> For an in-depth tutorial of forecasting using `merlion` check the [official documentation](https://opensource.salesforce.com/Merlion/v1.0.1/examples/forecast/1_ForecastFeatures.html). You will find there information about the different models, forecasting with multiple time-series and anomaly detection.\n",
        "> For more about time-series train/test splitting methods including cross validation, you can check this tutorial [time based cross validation](https://towardsdatascience.com/time-based-cross-validation-d259b13d42b8)"
      ]
    },
    {
      "cell_type": "code",
      "execution_count": null,
      "id": "xDeajUNuZN6O",
      "metadata": {
        "id": "xDeajUNuZN6O"
      },
      "outputs": [],
      "source": [
        "from merlion.utils import TimeSeries\n",
        "from merlion.models.forecast.prophet import Prophet, ProphetConfig\n",
        "from merlion.transform.base import Identity\n",
        "import matplotlib.pyplot as plt\n",
        "\n",
        "number_test_points = 150\n",
        "\n",
        "test_data = TimeSeries.from_pd(df[-number_test_points:])\n",
        "train_data = TimeSeries.from_pd(df[0:-number_test_points])\n",
        "config = ProphetConfig(max_forecast_steps=50, add_seasonality=\"auto\", transform=Identity())\n",
        "model  = Prophet(config)\n",
        "model.train(train_data=train_data)\n",
        "test_pred, test_err = model.forecast(time_stamps=test_data.time_stamps)"
      ]
    },
    {
      "cell_type": "markdown",
      "id": "0g76aUW0ZN6O",
      "metadata": {
        "id": "0g76aUW0ZN6O"
      },
      "source": [
        "Finally, we collect the result of the forecast stored in the variables `test_pred` and `test_err` (the first one contains the forecast and the second one the uncertainty/error associated with the forecast). To visualize the training `train_data`, testing `test_data`, forecast and associated uncertainty, we proceed to call the function `model.plot_forecast`. The following picture is an example of a graph obtained by runnning the code in the cell below for a given time-series data. Once you run the notebook with your own time-series data you will obtain a different graph, but with a similar look and elements. \n",
        "\n",
        "<img src=\"https://raw.githubusercontent.com/clarify/data-science-tutorials/main/media/forecast/example_prediction_graph.png\" alt=\"Example of the forecast result plotted using model.plot_forecast\" style=\"width: 60%;\" />\n"
      ]
    },
    {
      "cell_type": "code",
      "execution_count": null,
      "id": "XgSzRx-fZN6P",
      "metadata": {
        "id": "XgSzRx-fZN6P"
      },
      "outputs": [],
      "source": [
        "# code for plotting the result of the forecat\n",
        "fig, ax = model.plot_forecast(time_series_prev =train_data,time_series=test_data, plot_forecast_uncertainty=True, plot_time_series_prev=True)\n",
        "plt.show()"
      ]
    },
    {
      "cell_type": "markdown",
      "id": "34stCWysZN6P",
      "metadata": {
        "id": "34stCWysZN6P"
      },
      "source": [
        "# <a name=\"write\"></a> Write the forecast in Clarify\n",
        "\n",
        "We can now write back to Clary by creating DataFrames and metadata for the generated forecast and calling the method `insert` from `pyclarify`. In this case we write both the main trend of the forecast, as well as the upper and lower limit associated with the uncertainty of the forecast."
      ]
    },
    {
      "cell_type": "code",
      "execution_count": null,
      "id": "nJuwAU49ZN6P",
      "metadata": {
        "id": "nJuwAU49ZN6P"
      },
      "outputs": [],
      "source": [
        "from pyclarify import SignalInfo, DataFrame\n",
        "\n",
        "config_dict = config.to_dict()\n",
        "config_labels=[f\"{x}:{config_dict[x]}\" for x in config_dict]\n",
        "\n",
        "def write_data_and_metadata(original_id,original_name, new_signal_id, new_name, times, values):\n",
        "\n",
        "    new_signal_meta_data = SignalInfo(\n",
        "        name=new_name, \n",
        "        description=f\"Forecast for {original_name} in {item_location}\",\n",
        "        labels={\n",
        "            \"original_item_id\":[original_id], \n",
        "            \"number_points_testing\": [number_test_points], \n",
        "            \"forecast_method\" :[ \"Prophet\"],\n",
        "            \"data-source\": [\"Forecast Tutorial\"],\n",
        "            \"location\":[item_location],\n",
        "            \"method_config\":config_labels\n",
        "        },\n",
        "        engUnit=\"°C\"\n",
        "    )\n",
        "\n",
        "    response = client.save_signals(input_ids=[new_signal_id],signals=[new_signal_meta_data])\n",
        "    series = {new_signal_id : values}\n",
        "    new_df = DataFrame(times=times, series=series)\n",
        "    response = client.insert(new_df)\n",
        "    print(response)\n",
        "\n",
        "forecast_column_id = test_pred.names[0]\n",
        "column_err = test_err.names[0]\n",
        "forecast_id=forecast_column_id +\"_pred\"\n",
        "forecast_id_upper=forecast_column_id +\"_upper\"\n",
        "forecast_id_lower=forecast_column_id +\"_lower\"\n",
        "\n",
        "forecast_values = test_pred.univariates[forecast_column_id].values\n",
        "forecast_upper_values= [x+y for x,y in zip(test_pred.univariates[forecast_column_id ].values, test_err.univariates[column_err].values)]\n",
        "forecast_lower_values= [x-y for x,y in zip(test_pred.univariates[forecast_column_id ].values, test_err.univariates[column_err].values)]\n",
        "\n",
        "write_data_and_metadata(item_id, item_name, forecast_id, f\"Forecast for {item_name }\", times=test_pred.time_stamps, values=forecast_values)\n",
        "write_data_and_metadata(item_id, item_name, forecast_id_upper, f\"Forecast for {item_name } (upper bound)\", times=test_err.time_stamps, values=forecast_upper_values)\n",
        "write_data_and_metadata(item_id, item_name, forecast_id_lower, f\"Forecast for {item_name } (lower bound)\", times=test_err.time_stamps, values=forecast_lower_values)"
      ]
    },
    {
      "cell_type": "markdown",
      "id": "JPjIm6yJZN6Q",
      "metadata": {
        "id": "JPjIm6yJZN6Q"
      },
      "source": [
        "As a result of the previous steps you should be able to find three new (or updated in case they already exist) signals under the integration that has been used in this tutorial, exemplified in the figure below.\n",
        "\n",
        "<img src=\"https://raw.githubusercontent.com/clarify/data-science-tutorials/main/media/forecast/saved_forecast.png\" alt=\"List of signals in Clarify\" style=\"width: 70%;\" />"
      ]
    },
    {
      "cell_type": "markdown",
      "id": "F0qVhhbFZN6Q",
      "metadata": {
        "id": "F0qVhhbFZN6Q"
      },
      "source": [
        "# <a name=\"visualize\"></a> Visualize the forecast result and collaborate with Clarify\n",
        "<img src=\"https://raw.githubusercontent.com/clarify/data-science-tutorials/main/media/forecast/clarify_forecast_comment.png\" alt=\"Visualization of forecast in the timeline in Clarify\" style=\"width: 70%;\"  />"
      ]
    },
    {
      "cell_type": "markdown",
      "id": "rCf4hSHQZN6Q",
      "metadata": {
        "id": "rCf4hSHQZN6Q"
      },
      "source": [
        "Clarify facilitates the creation of dynamic and responsive graph visualization and collaboration around the generated forecast, for example with the possibility of creating threads of comments on a point or interval of time, as illustrated in the above figure. Once your data is written via the Clarify API you can created **items** for the forecast and the bounds of the interval characterizing the uncertainty of the forecast, as well as create customized **timelines** with your data and forecast, the details about this are beyond this tutorial. For more information about visualization and publishing signals on Clarify check the [basic tutorial on using Python with Clarify](https://colab.research.google.com/github/clarify/data-science-tutorials/blob/main/tutorials/Introduction.ipynb)."
      ]
    },
    {
      "cell_type": "markdown",
      "id": "fxo6bPjLZN6R",
      "metadata": {
        "id": "fxo6bPjLZN6R"
      },
      "source": [
        "### Where to go next\n",
        "\n",
        "* [Pattern Recognition](https://colab.research.google.com/github/clarify/data-science-tutorials/blob/main/tutorials/Pattern%20Recognition.ipynb)\n",
        "* [Google Cloud Hosting](https://colab.research.google.com/github/clarify/data-science-tutorials/blob/main/tutorials/Google%20Cloud%20Hosting.ipynb)"
      ]
    }
  ],
  "metadata": {
    "colab": {
      "collapsed_sections": [],
      "name": "Forecasting.ipynb",
      "provenance": []
    },
    "interpreter": {
      "hash": "aa14c21647fac57b3856d88b60f59e423e5dc36172c1e0b60404c5a955b6de41"
    },
    "kernelspec": {
      "display_name": "torch",
      "language": "python",
      "name": "torch"
    },
    "language_info": {
      "codemirror_mode": {
        "name": "ipython",
        "version": 3
      },
      "file_extension": ".py",
      "mimetype": "text/x-python",
      "name": "python",
      "nbconvert_exporter": "python",
      "pygments_lexer": "ipython3",
      "version": "3.9.6"
    }
  },
  "nbformat": 4,
  "nbformat_minor": 5
}
