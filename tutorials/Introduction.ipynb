{
  "cells": [
    {
      "cell_type": "markdown",
      "id": "b173d26c",
      "metadata": {
        "id": "b173d26c"
      },
      "source": [
        "![Clarify Logo](https://global-uploads.webflow.com/5e81e464dad44d3a9a32d1f4/5ed10fc3f1ff8467f4466786_logo.svg)\n",
        "\n",
        "# Welcome to this basic tutorial on using Python with Clarify!\n",
        "\n",
        "<img src=\"https://raw.githubusercontent.com/clarify/data-science-tutorials/main/media/introduction/light.png\" alt=\"clarify doodle\" width=\"400\">\n",
        "\n",
        "\n",
        "## What you need\n",
        "\n",
        "1. A Clarify account (with admin rights)\n",
        "2. A working Integration with Signal(s)\n",
        "3. An Item (published Signal)\n",
        "\n",
        "## What we will do\n",
        "1. [Get credentials from Clarify](#credentials)\n",
        "2. [Read data from our APIs](#read)\n",
        "3. [Write data back to Clarify (as a signal)](#write)\n",
        "4. [Adding data to the new Signal](#process)\n",
        "5. [(Bonus) Visualise the data in Clarify](#bonus)\n",
        "\n",
        "--- \n",
        "Other resources:\n",
        "* [API reference](https://docs.clarify.io/api/1.0/)\n",
        "* [SDK documentation](https://clarify.github.io/pyclarify/)\n",
        "* [User Guide](https://docs.clarify.io/users/welcome)\n",
        "* [Developer Guide](https://docs.clarify.io/developers/welcome)\n",
        "* [Intro to Python Notebooks](https://jupyter-notebook.readthedocs.io/en/stable/notebook.html#notebook-user-interface)"
      ]
    },
    {
      "cell_type": "markdown",
      "id": "db56f159",
      "metadata": {
        "id": "db56f159"
      },
      "source": [
        "<a name=\"credentials\"></a>\n",
        "## Get credentials from Clarify\n",
        "\n",
        "First, you need to connect this notebook with your Clarify account. To do this, download your credentials from the admin panel in Clarify. \n",
        "\n",
        "See our [Quickstart on integrations and credentials](https://docs.clarify.io/developers/quickstart/create-integration)\n"
      ]
    },
    {
      "cell_type": "markdown",
      "id": "bde3f5f6",
      "metadata": {
        "id": "bde3f5f6"
      },
      "source": [
        "We will be using the PyClarify SDK for authentication, reading `Items` and writing `Signals` to the Clarify app. \n",
        "\n",
        "In the SDK, the client is the main hub for communication between Clarify and your code. The client is a one to one mapping of the [API](https://docs.clarify.io/api/1.0/) with a pythonic interface. \n",
        "\n",
        "\n",
        "<img src=\"https://raw.githubusercontent.com/clarify/data-science-tutorials/main/media/introduction/light-mono.png\" alt=\"clarify doodle\" width=\"400\">\n",
        "\n",
        "Run the block below to install the [PyClarify SDK](https://clarify.github.io/pyclarify/)."
      ]
    },
    {
      "cell_type": "code",
      "execution_count": null,
      "id": "d2f69f4e",
      "metadata": {
        "id": "d2f69f4e",
        "vscode": {
          "languageId": "python"
        }
      },
      "outputs": [],
      "source": [
        "pip install pyclarify devtools"
      ]
    },
    {
      "cell_type": "markdown",
      "id": "ee249074",
      "metadata": {
        "id": "ee249074"
      },
      "source": [
        "<a name=\"read\"></a>\n",
        "## Read data and metadata from our APIs"
      ]
    },
    {
      "cell_type": "markdown",
      "id": "8049f5be",
      "metadata": {
        "id": "8049f5be"
      },
      "source": [
        "We will split reading items into two parts:\n",
        "* Reading the *meta data* information of your items\n",
        "* Reading the *data* of your items\n",
        "\n",
        "To be able to read `Items`, we need to create a client to the API:"
      ]
    },
    {
      "cell_type": "code",
      "execution_count": null,
      "id": "9bf0bb63",
      "metadata": {
        "id": "9bf0bb63",
        "vscode": {
          "languageId": "python"
        }
      },
      "outputs": [],
      "source": [
        "from pyclarify import ClarifyClient\n",
        "#insert the file path to your credentials below\n",
        "client = ClarifyClient(\"./clarify-credentials.json\")"
      ]
    },
    {
      "cell_type": "markdown",
      "id": "AExnM6MQngIJ",
      "metadata": {
        "id": "AExnM6MQngIJ"
      },
      "source": [
        "The client has a method called `select_items` which will be the main method for retrieving information from Clarify. Run the cell below to see the parameters of the method."
      ]
    },
    {
      "cell_type": "code",
      "execution_count": null,
      "id": "x96Cp1f-oLMX",
      "metadata": {
        "id": "x96Cp1f-oLMX",
        "vscode": {
          "languageId": "python"
        }
      },
      "outputs": [],
      "source": [
        "?client.select_items"
      ]
    },
    {
      "cell_type": "markdown",
      "id": "64687c01",
      "metadata": {
        "id": "64687c01"
      },
      "source": [
        "#### Reading Item Meta data\n",
        "Your items contain information about all sorts of stuff. This can be location of the item, the engineering unit it displays, the sample interval and so forth. \n",
        "\n",
        "You can actually [create your own labels](https://docs.clarify.io/api/1.1beta1/methods/admin/select-signals#signal-select-view) and add whatever you want to keep your items neat and organised. We will explore that further in the [writing items section](#write). \n",
        "\n",
        "> The API has a default limit of displaying 10 items each request. Use the `skip` attribute to skip the first x `items`. You can also increase the `limit` to retrieve more items in a single query. \n"
      ]
    },
    {
      "cell_type": "markdown",
      "id": "72f0ecf5",
      "metadata": {
        "id": "72f0ecf5"
      },
      "source": [
        "##### Using the Clarify Client"
      ]
    },
    {
      "cell_type": "code",
      "execution_count": null,
      "id": "4ed40394",
      "metadata": {
        "id": "4ed40394",
        "vscode": {
          "languageId": "python"
        }
      },
      "outputs": [],
      "source": [
        "response = client.select_items()\n",
        "\n",
        "# printing as dict for easier to understand format\n",
        "response.dict()"
      ]
    },
    {
      "cell_type": "code",
      "execution_count": null,
      "id": "c3c19c95",
      "metadata": {
        "id": "c3c19c95",
        "vscode": {
          "languageId": "python"
        }
      },
      "outputs": [],
      "source": [
        "# unwrapping our response\n",
        "\n",
        "items = response.result.data\n",
        "\n",
        "for item in items:\n",
        "  print(f\"ID: {item.id} \\t Name: {item.attributes.name}\")"
      ]
    },
    {
      "cell_type": "markdown",
      "id": "068cfb8a",
      "metadata": {
        "id": "068cfb8a"
      },
      "source": [
        "Here you can see the name and ID of the `Items` your `clarify-credentials.json` have access to. \n",
        "\n",
        "The block below prints a complete list of meta data your last `Item` contains:"
      ]
    },
    {
      "cell_type": "code",
      "execution_count": null,
      "id": "bac4a13e",
      "metadata": {
        "id": "bac4a13e",
        "vscode": {
          "languageId": "python"
        }
      },
      "outputs": [],
      "source": [
        "item.attributes"
      ]
    },
    {
      "cell_type": "markdown",
      "id": "9a3df0e1",
      "metadata": {
        "id": "9a3df0e1"
      },
      "source": [
        "<a name=\"reading_values\"></a>\n",
        "#### Reading Item data and using a Filter\n",
        "To read the values of a specific `Item` we need to know the ID of it. For simplicity it is currently set to the last `Item` retrieved by the request. \n",
        "\n",
        "You can select any of the ids that are displayed above, by setting `item_id` manually."
      ]
    },
    {
      "cell_type": "markdown",
      "id": "n4-qNRs2pV4p",
      "metadata": {
        "id": "n4-qNRs2pV4p"
      },
      "source": [
        "##### Setting up a Filter"
      ]
    },
    {
      "cell_type": "code",
      "execution_count": null,
      "id": "M7q5QyXWpaZJ",
      "metadata": {
        "id": "M7q5QyXWpaZJ",
        "vscode": {
          "languageId": "python"
        }
      },
      "outputs": [],
      "source": [
        "from pyclarify import query\n",
        "item_id = items[-1].id\n",
        "print(item_id)\n",
        "filter = query.Filter(fields={\"id\": query.In(value=[item_id])})"
      ]
    },
    {
      "cell_type": "markdown",
      "id": "PVgDHcAvp0_t",
      "metadata": {
        "id": "PVgDHcAvp0_t"
      },
      "source": [
        "Filters can be combined to form logical _AND_ and _OR_ operations. This is translated to python using the `&` and `|` symbols. \n",
        "\n",
        "The implemented operators are:\n",
        "- `Equal`\n",
        "- `NotEqual`\n",
        "- `Regex`\n",
        "- `In`\n",
        "- `NotIn`\n",
        "- `LessThan`\n",
        "- `GreaterThan`\n",
        "- `GreaterThanOrEqual`\n",
        "\n",
        "The usage is described in the [API reference](https://docs.clarify.io/api/1.1beta1/methods/filter-syntax#compare-operators), but there is an example below. We are using the `to_query()` method to get it in a more readable format."
      ]
    },
    {
      "cell_type": "code",
      "execution_count": null,
      "id": "GP4FT9QBpyQE",
      "metadata": {
        "id": "GP4FT9QBpyQE",
        "vscode": {
          "languageId": "python"
        }
      },
      "outputs": [],
      "source": [
        "f1 = query.Filter(fields={\"name\": query.NotEqual(value=\"Temperature\")})\n",
        "f2 = query.Filter(fields={\"labels.unit-type\": query.NotIn(value=[\"Car\", \"Storage 3\"])})\n",
        "f3 = query.Filter(fields={\"labels.location\": query.Regex(value=\"Ocean\")})\n",
        "\n",
        "# f1 and f2\n",
        "f4 = f1 & f2\n",
        "print(\"f4\", f4.to_query())\n",
        "# f1 and f2 or f3\n",
        "f5 = f1 & f2 | f3\n",
        "print(\"f5\", f5.to_query())"
      ]
    },
    {
      "cell_type": "markdown",
      "id": "5dVC72ySTQwm",
      "metadata": {
        "id": "5dVC72ySTQwm"
      },
      "source": [
        "##### Selecting data"
      ]
    },
    {
      "cell_type": "code",
      "execution_count": null,
      "id": "739e853f",
      "metadata": {
        "id": "739e853f",
        "vscode": {
          "languageId": "python"
        }
      },
      "outputs": [],
      "source": [
        "response = client.select_dataframe(\n",
        "    filter = filter,\n",
        "    gte = \"2022-06-13T01:00:00Z\",  #starting timestamp (greater than or equal)\n",
        "    lt = None  #ending timestamp (less than ) default is 40 days from starting\n",
        ")\n",
        "data = response.result.data\n",
        "df = data.to_pandas() # convert data into pandas DataFrame\n",
        "df"
      ]
    },
    {
      "cell_type": "markdown",
      "id": "c64dab1f",
      "metadata": {
        "id": "c64dab1f"
      },
      "source": [
        "##### Result"
      ]
    },
    {
      "cell_type": "markdown",
      "id": "852e40ea",
      "metadata": {
        "id": "852e40ea"
      },
      "source": [
        "Clarify data frames have two attributes:\n",
        "* **times:** `List[datetime]` - A list of the shared timestamp of the retrieved `Items`. \n",
        "* **series:** `Dict[InputID, NumericalValuesType]` - A dictionary containing ids of `Items` as a key and a list of numerical values as values.\n",
        "\n",
        "> In addition it has a handy method called `to_pandas()` which converts it into a pandas DataFrame. For more information of DataFrames in Clarify [see here](https://docs.clarify.io/api/1.1beta1/methods/integration/insert#data-frame).\n",
        "\n",
        "For now, lets visualise the retrieved data with help of [the Plotly package](https://github.com/plotly/plotly.py)."
      ]
    },
    {
      "cell_type": "code",
      "execution_count": null,
      "id": "d914243e",
      "metadata": {
        "id": "d914243e",
        "vscode": {
          "languageId": "python"
        }
      },
      "outputs": [],
      "source": [
        "pip install -U plotly"
      ]
    },
    {
      "cell_type": "code",
      "execution_count": null,
      "id": "dfc2bd52",
      "metadata": {
        "id": "dfc2bd52",
        "vscode": {
          "languageId": "python"
        }
      },
      "outputs": [],
      "source": [
        "import pandas as pd\n",
        "pd.options.plotting.backend = \"plotly\"\n",
        "df.plot()"
      ]
    },
    {
      "cell_type": "markdown",
      "id": "379998f0",
      "metadata": {
        "id": "379998f0"
      },
      "source": [
        "<a name=\"write\"></a>\n",
        "### Writing data back to Clarify\n",
        "Now that we have imported an Item to Notebook, it's time to send data back to Clarify.\n",
        "\n",
        "Writing data to Clarify is done in two steps:\n",
        "* Create a new `Signal`\n",
        "* Add data to the new `Signal`\n",
        "\n",
        "Writing meta data can be done by creating a `Signal` and populating it with meta data. The ID of this `Signal` needs to correspond with the ID we use for writing values to it.\n",
        "\n",
        "<img src=\"https://raw.githubusercontent.com/clarify/data-science-tutorials/main/media/introduction/light-2.png\" alt=\"clarify doodle\" width=\"400\">\n",
        "\n",
        "#### Create a new Signal\n",
        "The new `Signal` will contain a simple rolling window based on the `Item` we visualized above. First we want to create the meta data for the `Signal` with a `Signal` data structure.\n",
        "\n",
        "> *Why do we have both `Signals` and `Items`?*<br>\n",
        "> Signals map to the raw sensor that they are recieving data from. They are supposed to be a 1 to 1 mapping in the `Signals` meta data. `Items` is an abstraction of the `Signal`. The `Item` can have custom meta data and even consist of several `Signals`. \n",
        ">\n",
        "> *Why would you connect several `Signals` to an `Item`?* <br>\n",
        "> You might change sensors, or even connect a new one to an `Item`. To keep the historical values you can also connect several `Signal`. Clarify even supports *Calculated Items*, which is aggregated from a combination of one or more items.   "
      ]
    },
    {
      "cell_type": "code",
      "execution_count": null,
      "id": "8abf6385",
      "metadata": {
        "id": "8abf6385",
        "vscode": {
          "languageId": "python"
        }
      },
      "outputs": [],
      "source": [
        "from pyclarify import Signal\n",
        "item_name = item.attributes.name\n",
        "new_signal_name = f\"{item_name}_rolling_mean\"\n",
        "input_id = f\"{item_id}_rolling_mean\"\n",
        "\n",
        "new_signal_meta_data = Signal(\n",
        "    name=new_signal_name,\n",
        "    description=f\"Rolling window with 1d resolution of the signal {item_id}\",\n",
        "    labels={\n",
        "        \"rolling_window\": [\"1 day\"],\n",
        "        \"aggregated\": [True],\n",
        "        \"aggregated_from\": [item_id]\n",
        "    },\n",
        ")\n",
        "\n",
        "response = client.save_signals(input_ids=[input_id], signals=[new_signal_meta_data], create_only=False)\n",
        "\n",
        "print(response)\n",
        "\n",
        "signal_id = list(response.result.signalsByInput.values())[0].id"
      ]
    },
    {
      "cell_type": "markdown",
      "id": "0995ed59",
      "metadata": {
        "id": "0995ed59"
      },
      "source": [
        "##### Result"
      ]
    },
    {
      "cell_type": "markdown",
      "id": "55832855",
      "metadata": {
        "id": "55832855"
      },
      "source": [
        "From the response you can see that you have a new `Input ID` and a `Signal ID`. The `Input ID` is the id we will use when selecting the signal we want to write data.\n",
        "\n",
        "> You can now see the `Signal` in Clarify by going to the integration menu and clicking `Show Signals`\n",
        "<video width=\"320\" height=\"240\" controls>\n",
        "  <source src=\"https://player.vimeo.com/video/676275415\" type=\"video\">\n",
        "</video>\n",
        "\n",
        "<iframe width=\"420\" height=\"315\"\n",
        "src=\"https://player.vimeo.com/video/676275415\">\n",
        "</iframe>\n"
      ]
    },
    {
      "cell_type": "markdown",
      "id": "22ab0910",
      "metadata": {
        "id": "22ab0910"
      },
      "source": [
        "#### Reading the new Signal metadata\n",
        "Previously we have used the `select_items` method to read item metadata. You can also read metadata from signals (and items) using the `select_signal` method. Below is a code snippet to see the newly created signal."
      ]
    },
    {
      "cell_type": "code",
      "execution_count": null,
      "id": "ab9936f2",
      "metadata": {
        "id": "ab9936f2",
        "vscode": {
          "languageId": "python"
        }
      },
      "outputs": [],
      "source": [
        "filter = query.Filter(fields={\"id\": query.In(value=[signal_id])})\n",
        "response = client.select_signals(filter=filter)\n",
        "\n",
        "signal = response.result.data[0]\n",
        "signal.dict()"
      ]
    },
    {
      "cell_type": "markdown",
      "id": "e0963758",
      "metadata": {
        "id": "e0963758"
      },
      "source": [
        "<a name=\"process\"></a>\n",
        "#### Add data to the new Signal\n",
        "As mentioned we want to write data to this `Signal`. We can use the popular library [Pandas](https://github.com/pandas-dev/pandas) to create a rolling average with a 1 day interval of the data retrieved in [reading values](#reading_values). Then, we will write these values to the newly created `Signal`.\n",
        "\n",
        "Let us start by importing `pandas` and creating a new Data Frame with rolling average. "
      ]
    },
    {
      "cell_type": "code",
      "execution_count": null,
      "id": "2dcc4c71",
      "metadata": {
        "id": "2dcc4c71",
        "vscode": {
          "languageId": "python"
        }
      },
      "outputs": [],
      "source": [
        "import pandas as pd\n",
        "pd.options.plotting.backend = \"plotly\"\n",
        "df_rolling_mean = df.rolling('1d').mean()\n",
        "df_rolling_mean.columns=[input_id]\n",
        "merged_df = df.join(df_rolling_mean)\n",
        "merged_df.plot()"
      ]
    },
    {
      "cell_type": "markdown",
      "id": "3ee8a591",
      "metadata": {
        "id": "3ee8a591"
      },
      "source": [
        "As mentioned, we use data frames (not to be confused with pandas data frames) to send values to and from Clarify. DataFrame separates time and values by having the same timestamps for all signal even though they might not have a value at a given timestamp. The backend handles this by not writing null values to Clarify.\n",
        "\n",
        "We take advantage of a handy method called `from_pandas` to convert a pandas DataFrame to a Clarify DataFrame."
      ]
    },
    {
      "cell_type": "code",
      "execution_count": null,
      "id": "12481323",
      "metadata": {
        "id": "12481323",
        "vscode": {
          "languageId": "python"
        }
      },
      "outputs": [],
      "source": [
        "from pyclarify import DataFrame\n",
        "\n",
        "new_data = DataFrame.from_pandas(df_rolling_mean)\n"
      ]
    },
    {
      "cell_type": "markdown",
      "id": "b08d463e",
      "metadata": {
        "id": "b08d463e"
      },
      "source": [
        "Then we send this newly created data frame to Clarify."
      ]
    },
    {
      "cell_type": "code",
      "execution_count": null,
      "id": "f001eae8",
      "metadata": {
        "id": "f001eae8",
        "vscode": {
          "languageId": "python"
        }
      },
      "outputs": [],
      "source": [
        "response = client.insert(new_data)\n",
        "print(response)"
      ]
    },
    {
      "cell_type": "markdown",
      "id": "310190e8",
      "metadata": {
        "id": "310190e8"
      },
      "source": [
        "#### ENUMS\n",
        "Enums are a special type of input you can create that acts a little different. Enums are displayed as blocks of data with a single value. \n",
        "\n",
        "This makes it great for displaying events over a certain space of time. \n",
        "\n",
        "To keep things simple we will create 3 different enums for percentiles of the data. \n",
        "\n",
        "We follow the sampe procedure as above by first creating a new `Signal` and populating it with meta data. \n",
        "\n",
        "> Enums are stored as integers or rounded floats in Clarify. If you want to map these enums to strings e.g. `\"normal\"`, you can do so by specifying the `type` to be `\"enum\"` and setting `enumValues` to be a mapping."
      ]
    },
    {
      "cell_type": "code",
      "execution_count": null,
      "id": "61c9dc05",
      "metadata": {
        "id": "61c9dc05",
        "vscode": {
          "languageId": "python"
        }
      },
      "outputs": [],
      "source": [
        "# create signal\n",
        "percentile_signal_name = f\"{item_name}_percentile\"\n",
        "percentile_input_id = f\"{item_id}_percentile\"\n",
        "\n",
        "\n",
        "percentile_signal_meta_data = Signal(\n",
        "    name=percentile_signal_name,\n",
        "    description=f\"Percentile enums of the signal {item_id}\",\n",
        "    labels={\n",
        "        \"percentiles\": [\"90\", \"75\"],\n",
        "        \"aggregated\": [True],\n",
        "        \"aggregated_from\": [item_id]\n",
        "    },\n",
        "    valueType=\"enum\",\n",
        "    enumValues={\n",
        "        \"0\": \"normal\",\n",
        "        \"1\": \"P75\",\n",
        "        \"2\": \"P95\",\n",
        "    }\n",
        ")\n",
        "\n",
        "response = client.save_signals(input_ids=[percentile_input_id], signals=[percentile_signal_meta_data], create_only=False)\n",
        "print(response)"
      ]
    },
    {
      "cell_type": "markdown",
      "id": "3bc2ffdb",
      "metadata": {
        "id": "3bc2ffdb"
      },
      "source": [
        "##### Enums mapping"
      ]
    },
    {
      "cell_type": "markdown",
      "id": "f324f43b",
      "metadata": {
        "id": "f324f43b"
      },
      "source": [
        "Now lets create the values of the series. We will do so by using pandas [quantile](https://pandas.pydata.org/pandas-docs/stable/reference/api/pandas.DataFrame.quantile.html) method. "
      ]
    },
    {
      "cell_type": "code",
      "execution_count": null,
      "id": "0af0b2b7",
      "metadata": {
        "id": "0af0b2b7",
        "vscode": {
          "languageId": "python"
        }
      },
      "outputs": [],
      "source": [
        "# set all enums to be zero\n",
        "merged_df[percentile_input_id] = 0\n",
        "\n",
        "# set values above 75th percentile to be one\n",
        "percentile_75 = df.quantile(q=0.75).values[0]\n",
        "merged_df.loc[merged_df[item_id] > percentile_75, percentile_input_id] = 1\n",
        "\n",
        "\n",
        "# set values above 95th percentile to be two\n",
        "percentile_95 = df.quantile(q=0.95).values[0]\n",
        "merged_df.loc[merged_df[item_id] > percentile_95, percentile_input_id] = 2\n",
        "\n",
        "\n",
        "merged_df.plot()"
      ]
    },
    {
      "cell_type": "markdown",
      "id": "863b1400",
      "metadata": {
        "id": "863b1400"
      },
      "source": [
        "Now we create a clarify DataFrame manually, and insert into Clarify."
      ]
    },
    {
      "cell_type": "code",
      "execution_count": null,
      "id": "5d468f84",
      "metadata": {
        "id": "5d468f84",
        "vscode": {
          "languageId": "python"
        }
      },
      "outputs": [],
      "source": [
        "new_df = DataFrame.from_pandas(merged_df)\n",
        "print(new_df.series.keys())"
      ]
    },
    {
      "cell_type": "code",
      "execution_count": null,
      "id": "ebb3d3d6",
      "metadata": {
        "id": "ebb3d3d6",
        "vscode": {
          "languageId": "python"
        }
      },
      "outputs": [],
      "source": [
        "response = client.insert(new_df)\n",
        "print(response)"
      ]
    },
    {
      "cell_type": "markdown",
      "id": "01ccc75e",
      "metadata": {
        "id": "01ccc75e"
      },
      "source": [
        "<a name=\"bonus\"></a>\n",
        "## Visualise the data in Clarify\n",
        "\n",
        "Once your data has been sent to Clarify, it should show up in the `Admin panel` as a `Signal` in your `Integration`.\n",
        "\n",
        "Publish your `Signal` to make it available as an `Item` in Clarify.\n"
      ]
    },
    {
      "cell_type": "markdown",
      "id": "c1420497",
      "metadata": {
        "id": "c1420497"
      },
      "source": [
        "#### Publishing Signals"
      ]
    },
    {
      "cell_type": "code",
      "execution_count": null,
      "id": "S5dae2_TGBu_",
      "metadata": {
        "cellView": "form",
        "id": "S5dae2_TGBu_",
        "vscode": {
          "languageId": "python"
        }
      },
      "outputs": [],
      "source": [
        "#@title See our [quickstart guide]() for more information\n",
        "from IPython.display import VimeoVideo\n",
        "v = VimeoVideo(id='676275415', width=800, height=600)\n",
        "v"
      ]
    },
    {
      "cell_type": "code",
      "execution_count": null,
      "id": "d08636c3",
      "metadata": {
        "id": "d08636c3",
        "vscode": {
          "languageId": "python"
        }
      },
      "outputs": [],
      "source": [
        "import pyclarify\n",
        "from pyclarify import Item\n",
        "\n",
        "# pass some metadata from the signal to the item\n",
        "data_source = [\"Jupyter Notebook\", \"Aggregation\"]\n",
        "location = [\"Trondheim\", \"Norway\"]\n",
        "\n",
        "percentile_item_meta_data = Item(\n",
        "    name=\"Percentile Enums\",\n",
        "    description=f\"Percentile enums of the signal {item_id}\",\n",
        "    labels={\n",
        "        \"location\": location,\n",
        "        \"data-source\": data_source,\n",
        "        \"percentiles\": [\n",
        "            \"90\", \n",
        "            \"75\", \n",
        "            \"normal\"\n",
        "        ],\n",
        "        \"aggregated\": [True],\n",
        "        \"aggregated_from\": [item_id],\n",
        "        \"published_automatically\": [True],\n",
        "        \"SDK_version\": [pyclarify.__version__]\n",
        "    },\n",
        "    valueType=\"enum\",\n",
        "    enumValues={\n",
        "        \"0\": \"normal\",\n",
        "        \"1\": \"P75\",\n",
        "        \"2\": \"P95\"\n",
        "    },\n",
        "    gapDetection= \"PT1H\",\n",
        "    visible=True\n",
        ")\n",
        "\n",
        "response = client.publish_signals(signal_ids=[signal_id], items=[percentile_item_meta_data], create_only=False)\n",
        "\n",
        "print(response)"
      ]
    },
    {
      "cell_type": "markdown",
      "id": "e448adf2",
      "metadata": {
        "id": "e448adf2"
      },
      "source": [
        "### Creating a timeline\n",
        "\n",
        "Now that all your newly created data is available you can create your very own timeline. \n",
        "\n",
        "<img src=\"https://raw.githubusercontent.com/clarify/data-science-tutorials/main/media/introduction/create_timeline.gif\" alt=\"Getting credentials\">\n",
        "\n",
        "Steps:\n",
        "1. Go to Admin -> Items\n",
        "2. Select newly published Item\n",
        "3. Click `Open in Clarify`\n",
        "4. Click `Open in New Timeline`\n",
        "5. Add other Items by searching in the menu.\n"
      ]
    },
    {
      "cell_type": "markdown",
      "id": "3c6814a5",
      "metadata": {
        "id": "3c6814a5"
      },
      "source": [
        "**Where to go next**\n",
        "\n",
        "*   [Forecasting](https://colab.research.google.com/github/clarify/data-science-tutorials/blob/main/tutorials/Forecasting.ipynb)\n",
        "*   [Pattern Recognition](https://colab.research.google.com/github/clarify/data-science-tutorials/blob/main/tutorials/Pattern%20Recognition.ipynb)\n",
        "*   [Hosting with Google Cloud](https://colab.research.google.com/github/clarify/data-science-tutorials/blob/main/tutorials/Google%20Cloud%20Hosting.ipynb)"
      ]
    }
  ],
  "metadata": {
    "colab": {
      "collapsed_sections": [],
      "name": "Welcome to PyClarify",
      "provenance": [],
      "toc_visible": true
    },
    "kernelspec": {
      "display_name": "torch",
      "language": "python",
      "name": "torch"
    }
  },
  "nbformat": 4,
  "nbformat_minor": 5
}
