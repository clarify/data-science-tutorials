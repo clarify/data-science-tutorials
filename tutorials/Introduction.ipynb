{
  "cells": [
    {
      "cell_type": "markdown",
      "id": "b173d26c",
      "metadata": {
        "id": "RGyEzsWLis9C"
      },
      "source": [
        "![Clarify Logo](https://global-uploads.webflow.com/5e81e464dad44d3a9a32d1f4/5ed10fc3f1ff8467f4466786_logo.svg)\n",
        "\n",
        "# Welcome to this basic tutorial on using Python with Clarify!\n",
        "\n",
        "<img src=\"https://raw.githubusercontent.com/clarify/data-science-tutorials/main/media/introduction/light.png\" alt=\"clarify doodle\" width=\"400\">\n",
        "\n",
        "\n",
        "## What you need\n",
        "\n",
        "1. A Clarify account (with admin rights)\n",
        "2. A working Integration with Signal(s)\n",
        "3. An Item (published Signal)\n",
        "\n",
        "## What we will do\n",
        "1. [Get credentials from Clarify](#credentials)\n",
        "2. [Read data from our APIs](#read)\n",
        "3. [Write data back to Clarify (as a signal)](#write)\n",
        "4. [Adding data to the new Signal](#process)\n",
        "5. [(Bonus) Visualise the data in Clarify](#bonus)\n",
        "\n",
        "--- \n",
        "Other resources:\n",
        "* [API reference](https://docs.clarify.io/reference/http)\n",
        "* [SDK documentation](https://clarify.github.io/pyclarify/)\n",
        "* [Intro to Python Notebooks](https://jupyter-notebook.readthedocs.io/en/stable/notebook.html#notebook-user-interface)"
      ]
    },
    {
      "cell_type": "markdown",
      "id": "db56f159",
      "metadata": {
        "id": "_G45s0wQKwN5"
      },
      "source": [
        "<a name=\"credentials\"></a>\n",
        "## Get credentials from Clarify\n",
        "\n",
        "First, you need to connect this notebook with your Clarify account. To do this, download your credentials from the admin panel in Clarify. \n",
        "\n",
        "<img src=\"https://raw.githubusercontent.com/clarify/data-science-tutorials/main/media/introduction/get_credentials.gif\" alt=\"Getting credentials\">\n",
        "\n",
        "\n",
        "1. Access the admin panel you need to click on your organization (located on the top right corner) and go to the integrations menu.\n",
        "2. Click the integration containing your signal and toggle the `Access to item data`.\n",
        "3. Download the `clarify-credentials.json` file found in the `Credentials` tab.\n",
        "4. The final step is to upload the file to this workspace.\n"
      ]
    },
    {
      "cell_type": "markdown",
      "id": "bde3f5f6",
      "metadata": {
        "id": "cYHDIZHemDfW"
      },
      "source": [
        "We will be using the PyClarify SDK for authentication, reading `Items` and writing `Signals` to the Clarify app. \n",
        "\n",
        "In the SDK are two versions of a client. One been the ApiClient which is a one to one mapping of the [API](https://docs.clarify.io/reference/http) and the other been the ClarifyClient which is a more pythonic implementation. \n",
        "\n",
        "\n",
        "<img src=\"https://raw.githubusercontent.com/clarify/data-science-tutorials/main/media/introduction/light-mono.png\" alt=\"clarify doodle\" width=\"400\">\n",
        "\n",
        "Run the block below to install the [PyClarify SDK](https://clarify.github.io/pyclarify/)."
      ]
    },
    {
      "cell_type": "code",
      "execution_count": null,
      "id": "d2f69f4e",
      "metadata": {
        "colab": {
          "base_uri": "https://localhost:8080/"
        },
        "id": "bZLi0pmmSKZW",
        "outputId": "a24f128d-82d1-4623-d36e-074dd72aeeb9"
      },
      "outputs": [],
      "source": [
        "!pip install pyclarify"
      ]
    },
    {
      "cell_type": "markdown",
      "id": "ee249074",
      "metadata": {},
      "source": [
        "<a name=\"read\"></a>\n",
        "## Read data and metadata from our APIs"
      ]
    },
    {
      "cell_type": "markdown",
      "id": "8049f5be",
      "metadata": {
        "id": "PKcYNXWRm0qW"
      },
      "source": [
        "We will split reading items into two parts:\n",
        "* Reading the *meta data* information of your items\n",
        "* Reading the *data* of your items\n",
        "\n",
        "The SDK is mirroring the Clarify API, thus [the reference document](https://docs.clarify.io/reference) will be a good resource if you come across any issues or want to see the capabilities of the API.\n",
        "\n",
        "To be able to read `Items`, we need to create a client to the API:"
      ]
    },
    {
      "cell_type": "code",
      "execution_count": null,
      "id": "9bf0bb63",
      "metadata": {
        "id": "pc_0NantSKZW"
      },
      "outputs": [],
      "source": [
        "from pyclarify import APIClient, ClarifyClient\n",
        "\n",
        "#insert the file path to your credentials below\n",
        "api_client = APIClient(\"./clarify-credentials.json\")\n",
        "clarify_client = ClarifyClient(\"./clarify-credentials.json\")"
      ]
    },
    {
      "cell_type": "markdown",
      "id": "64687c01",
      "metadata": {
        "id": "A8u-s7zYn3cH"
      },
      "source": [
        "#### Reading Item Meta data\n",
        "Your items contain information about all sorts of stuff. This can be location of the item, the engineering unit it displays, the sample interval and so forth. \n",
        "\n",
        "You can actually [create your own labels](https://docs.clarify.io/reference#signal) and add whatever you want to keep your items neat and organised. We will explore that further in the [writing items section](#write). \n",
        "\n",
        "> The API has a default limit of displaying 10 items each request. Use the `skip` attribute to skip the first x `items`. You can also increase the `limit` to retrieve more items in a single query. \n"
      ]
    },
    {
      "cell_type": "markdown",
      "id": "72f0ecf5",
      "metadata": {},
      "source": [
        "##### Using the Clarify Client"
      ]
    },
    {
      "cell_type": "code",
      "execution_count": null,
      "id": "4ed40394",
      "metadata": {},
      "outputs": [],
      "source": [
        "response = clarify_client.select_items_metadata(\n",
        "    limit = 10,\n",
        "    skip = 0\n",
        ")"
      ]
    },
    {
      "cell_type": "markdown",
      "id": "eaa450e3",
      "metadata": {},
      "source": [
        "##### Using the API CLient"
      ]
    },
    {
      "cell_type": "code",
      "execution_count": null,
      "id": "ced84597",
      "metadata": {
        "colab": {
          "base_uri": "https://localhost:8080/"
        },
        "id": "rJZi9YXvVr6g",
        "outputId": "5438ec9f-573f-4033-a9b5-30e464fd524a"
      },
      "outputs": [],
      "source": [
        "request = {\n",
        "  \"items\": {\n",
        "    \"include\": True, \n",
        "    \"skip\": 0,\n",
        "    \"limit\": 10\n",
        "  }, \n",
        "  \"data\": {\n",
        "  }\n",
        "}\n",
        "\n",
        "# Send request to API\n",
        "response = api_client.select_items(request)"
      ]
    },
    {
      "cell_type": "markdown",
      "id": "8f0049a2",
      "metadata": {},
      "source": [
        "##### Result"
      ]
    },
    {
      "cell_type": "code",
      "execution_count": null,
      "id": "c3c19c95",
      "metadata": {},
      "outputs": [],
      "source": [
        "# Print result\n",
        "\n",
        "item_dict = response.result.items\n",
        "\n",
        "for item_id, meta_data in item_dict.items():\n",
        "  print(f\"ID: {item_id} \\t Name: {meta_data.name}\")"
      ]
    },
    {
      "cell_type": "markdown",
      "id": "068cfb8a",
      "metadata": {
        "id": "793jjT6xpmll"
      },
      "source": [
        "Here you can see the name and ID of the `Items` your `clarify-credentials.json` have access to. \n",
        "\n",
        "The block below prints a complete list of meta data your last `Item` contains:"
      ]
    },
    {
      "cell_type": "code",
      "execution_count": null,
      "id": "bac4a13e",
      "metadata": {
        "colab": {
          "base_uri": "https://localhost:8080/"
        },
        "id": "cSGecH-Dp_vt",
        "outputId": "e3c15494-4001-426c-80c9-f82c8a8780fa"
      },
      "outputs": [],
      "source": [
        "for value in meta_data:\n",
        "  print(value)"
      ]
    },
    {
      "cell_type": "markdown",
      "id": "9a3df0e1",
      "metadata": {
        "id": "63xdOnC0rksb"
      },
      "source": [
        "<a name=\"reading_values\"></a>\n",
        "#### Reading Item data\n",
        "To read the values of an `Item` we need to know the ID of it. For simplicity it is currently set to the last `Item` retrieved by the request. \n",
        "\n",
        "You can select any of the ids that are displayed above, by setting `item_id` manually."
      ]
    },
    {
      "cell_type": "markdown",
      "id": "2a985035",
      "metadata": {},
      "source": [
        "##### Using the Clarify Client"
      ]
    },
    {
      "cell_type": "code",
      "execution_count": null,
      "id": "739e853f",
      "metadata": {},
      "outputs": [],
      "source": [
        "response = clarify_client.select_items_data(\n",
        "    ids = [item_id],\n",
        "    limit = 10,\n",
        "    skip = 0,\n",
        "    not_before = \"2021-03-13T01:00:00Z\",  #starting timestamp\n",
        "    before = None  #ending timestamp (default is 40 days from starting)\n",
        ")\n",
        "\n",
        "data = response.result.data\n",
        "print(data)"
      ]
    },
    {
      "cell_type": "markdown",
      "id": "dd5c3099",
      "metadata": {},
      "source": [
        "##### Using the Api Client"
      ]
    },
    {
      "cell_type": "code",
      "execution_count": null,
      "id": "5cdb54f7",
      "metadata": {
        "colab": {
          "base_uri": "https://localhost:8080/"
        },
        "id": "XkZXG6zOZ3hG",
        "outputId": "97ff4253-bfbd-4a72-e43e-f02e8fe6a632"
      },
      "outputs": [],
      "source": [
        "reading_data_request = {\n",
        "  \"items\": {\n",
        "    \"include\": False,\n",
        "    \"filter\": {\n",
        "      \"id\": {\n",
        "        \"$in\": [\n",
        "          item_id\n",
        "        ]\n",
        "      }\n",
        "    }\n",
        "  },\n",
        "  \"data\": {\n",
        "    \"include\": True,\n",
        "    \"notBefore\": \"2021-03-13T01:00:00Z\", #starting timestamp\n",
        "    \"before\": None #ending timestamp (default is 40 days from starting)\n",
        "  }\n",
        "}\n",
        "\n",
        "\n",
        "response = api_client.select_items(reading_data_request)\n",
        "data = response.result.data\n",
        "print(data)"
      ]
    },
    {
      "cell_type": "markdown",
      "id": "c64dab1f",
      "metadata": {},
      "source": [
        "##### Result"
      ]
    },
    {
      "cell_type": "markdown",
      "id": "852e40ea",
      "metadata": {
        "id": "224mPCe3aYWt"
      },
      "source": [
        "Clarify data frames have two attributes:\n",
        "* **times:** `List[datetime]` - A list of the shared timestamp of the retrieved `Items`. \n",
        "* **series:** `Dict[InputID, NumericalValuesType]` - A dictionary containing ids of `Items` as a key and a list of numerical values as values.\n",
        "\n",
        "> For more information of DataFrames in Clarify [see here](https://docs.clarify.io/reference/data-frame-1).\n",
        "\n",
        "For now, lets visualise the retrieved data with help of [the Plotly package](https://github.com/plotly/plotly.py)."
      ]
    },
    {
      "cell_type": "code",
      "execution_count": null,
      "id": "d914243e",
      "metadata": {
        "colab": {
          "base_uri": "https://localhost:8080/"
        },
        "id": "zxtn-RPPnPph",
        "outputId": "05d6fb66-8229-409f-ab61-f1118df27678"
      },
      "outputs": [],
      "source": [
        "pip install -U plotly"
      ]
    },
    {
      "cell_type": "code",
      "execution_count": null,
      "id": "dfc2bd52",
      "metadata": {
        "colab": {
          "base_uri": "https://localhost:8080/",
          "height": 542
        },
        "id": "HG4UzxwEb_iM",
        "outputId": "d7b32f96-60f7-41fb-b028-612e58a30362"
      },
      "outputs": [],
      "source": [
        "import plotly.graph_objects as go\n",
        "\n",
        "item_name = meta_data.name\n",
        "times = data.times\n",
        "series = data.series\n",
        "values = series[item_id] \n",
        "\n",
        "fig = go.Figure()\n",
        "fig.add_trace(go.Scatter(x=times, y=values))\n",
        "fig.update_layout(title=item_name)\n",
        "fig.show()"
      ]
    },
    {
      "cell_type": "markdown",
      "id": "379998f0",
      "metadata": {
        "id": "KInzZN6Ht97y"
      },
      "source": [
        "<a name=\"write\"></a>\n",
        "### Writing data back to Clarify\n",
        "Now that we have imported an Item to Notebook, it's time to send data back to Clarify.\n",
        "\n",
        "Writing data to Clarify is done in two steps:\n",
        "* Create a new `Signal`\n",
        "* Add data to the new `Signal`\n",
        "\n",
        "Writing meta data can be done by creating a `Signal` and populating it with meta data. The ID of this `Signal` needs to correspond with the ID we use for writing values to it.\n",
        "\n",
        "<img src=\"https://raw.githubusercontent.com/clarify/data-science-tutorials/main/media/introduction/light-2.png\" alt=\"clarify doodle\" width=\"400\">\n",
        "\n",
        "#### Create a new Signal\n",
        "The new `Signal` will contain a simple rolling window based on the `Item` we visualized above. First we want to create the meta data for the `Signal` with a `Signal` data structure.\n",
        "\n",
        "> *Why do we have both `Signals` and `Items`?*<br>\n",
        "> Signals map to the raw sensor that they are recieving data from. They are supposed to be a 1 to 1 mapping in the `Signals` meta data. `Items` is an abstraction of the `Signal`. The `Item` can have custom meta data and even consist of several `Signals`. \n",
        ">\n",
        "> *Why would you connect several `Signals` to an `Item`?* <br>\n",
        "> You might change sensors, or even connect a new one to an `Item`. To keep the historical values you can also connect several `Signal`. Clarify even supports *Calculated Items*, which is aggregated from a combination of one or more items.   "
      ]
    },
    {
      "cell_type": "markdown",
      "id": "85ff2f60",
      "metadata": {},
      "source": [
        "##### Using the Clarify Client"
      ]
    },
    {
      "cell_type": "code",
      "execution_count": null,
      "id": "8abf6385",
      "metadata": {},
      "outputs": [],
      "source": [
        "from pyclarify import SignalInfo\n",
        "new_signal_name = f\"{item_name}_rolling_mean\"\n",
        "input_id = f\"{item_id}_rolling_mean\"\n",
        "\n",
        "new_signal_meta_data = SignalInfo(\n",
        "    name=new_signal_name,\n",
        "    description=f\"Rolling window with 1d resolution of the signal {item_id}\",\n",
        "    labels={\n",
        "        \"rolling_window\": [\"1 day\"],\n",
        "        \"aggregated\": [True],\n",
        "        \"aggregated_from\": [item_id]\n",
        "    },\n",
        ")\n",
        "\n",
        "response = clarify_client.save_signals(input_ids=[input_id], signals=[new_signal_meta_data], create_only=False)\n",
        "\n",
        "print(response)\n",
        "\n",
        "signal_id = list(response.result.signalsByInput.values())[0].id"
      ]
    },
    {
      "cell_type": "markdown",
      "id": "8afd2923",
      "metadata": {},
      "source": [
        "##### Using the Api Client"
      ]
    },
    {
      "cell_type": "code",
      "execution_count": null,
      "id": "67b8b056",
      "metadata": {
        "colab": {
          "base_uri": "https://localhost:8080/"
        },
        "id": "Oo3v8yTJrWBK",
        "outputId": "d134b42c-abd3-4520-8478-6a13f14b9972"
      },
      "outputs": [],
      "source": [
        "from pyclarify import SignalInfo\n",
        "new_signal_name = f\"{item_name}_rolling_mean\"\n",
        "input_id = f\"{item_id}_rolling_mean\"\n",
        "\n",
        "\n",
        "new_signal_meta_data = SignalInfo(\n",
        "    name=new_signal_name,\n",
        "    description=f\"Rolling window with 1d resolution of the signal {item_id}\",\n",
        "    labels={\n",
        "        \"rolling_window\": [\"1 day\"],\n",
        "        \"aggregated\": [True],\n",
        "        \"aggregated_from\": [item_id]\n",
        "    },\n",
        ")\n",
        "\n",
        "save_signal_request = {\n",
        "    \"inputs\": {\n",
        "        input_id : new_signal_meta_data\n",
        "    },\n",
        "    \"createOnly\": False \n",
        "    #False = create new signal if none with the id exists, True = update existing signal\n",
        "}\n",
        "\n",
        "response = api_client.save_signals(save_signal_request)\n",
        "print(response)\n",
        "\n",
        "signal_id = list(response.result.signalsByInput.values())[0].id"
      ]
    },
    {
      "cell_type": "markdown",
      "id": "0995ed59",
      "metadata": {},
      "source": [
        "##### Result"
      ]
    },
    {
      "cell_type": "markdown",
      "id": "55832855",
      "metadata": {
        "id": "rVeLntqCzH4j"
      },
      "source": [
        "From the response you can see that you have a new `Input ID` and a `Signal ID`. The `Input ID` is the id we will use when selecting the signal we want to write data.\n",
        "\n",
        "> You can now see the `Signal` in Clarify by going to the integration menu and clicking `Show Signals`\n",
        "\n",
        "<img src=\"https://raw.githubusercontent.com/clarify/data-science-tutorials/main/media/introduction/open_signals.gif\" alt=\"Getting credentials\">"
      ]
    },
    {
      "cell_type": "markdown",
      "id": "22ab0910",
      "metadata": {},
      "source": [
        "#### Reading the new Signal metadata\n",
        "Previously we have used the `select_items` method to read item metadata. You can also read metadata from signals (and items) using the `select_signal` method. Below is a code snippet to see the newly created signal."
      ]
    },
    {
      "cell_type": "markdown",
      "id": "e30053cc",
      "metadata": {},
      "source": [
        "##### Using the Clarify Client"
      ]
    },
    {
      "cell_type": "code",
      "execution_count": null,
      "id": "ab9936f2",
      "metadata": {},
      "outputs": [],
      "source": [
        "response = clarify_client.select_signals(ids = [signal_id])\n",
        "\n",
        "for value in response.result.signals[signal_id]:\n",
        "    print(value)"
      ]
    },
    {
      "cell_type": "markdown",
      "id": "622ad939",
      "metadata": {},
      "source": [
        "##### Using the Api Client"
      ]
    },
    {
      "cell_type": "code",
      "execution_count": null,
      "id": "60da7229",
      "metadata": {},
      "outputs": [],
      "source": [
        "\n",
        "select_signal_request = {\n",
        "    \"signals\": {\n",
        "        \"include\": True,\n",
        "        \"filter\": {\n",
        "            \"id\": {\n",
        "                \"$in\": [\n",
        "                   signal_id\n",
        "                ]\n",
        "            }\n",
        "        }\n",
        "    },\n",
        "    \"items\": {\n",
        "        \"include\": False\n",
        "    }\n",
        "}\n",
        "\n",
        "response = api_client.select_signals(select_signal_request)\n",
        "\n",
        "for value in response.result.signals[signal_id]:\n",
        "    print(value)"
      ]
    },
    {
      "cell_type": "markdown",
      "id": "e0963758",
      "metadata": {
        "id": "R7AD4SyPzNZ5"
      },
      "source": [
        "<a name=\"process\"></a>\n",
        "#### Add data to the new Signal\n",
        "As mentioned we want to write data to this `Signal`. We can use the popular library [Pandas](https://github.com/pandas-dev/pandas) to create a rolling average with a 1 day interval of the data retrieved in [reading values](#reading_values). Then, we will write these values to the newly created `Signal`.\n",
        "\n",
        "Let us start by importing `pandas` and creating a new Data Frame with rolling average. "
      ]
    },
    {
      "cell_type": "code",
      "execution_count": null,
      "id": "2dcc4c71",
      "metadata": {
        "colab": {
          "base_uri": "https://localhost:8080/",
          "height": 542
        },
        "id": "c7fWhy7rh7IN",
        "outputId": "94be8129-3fca-4802-f1d4-38d95de7980d"
      },
      "outputs": [],
      "source": [
        "import pandas as pd\n",
        "pd.options.plotting.backend = \"plotly\"\n",
        "df = pd.DataFrame(series)\n",
        "df.index = times\n",
        "df = df.sort_index()\n",
        "df_rolling_mean = df.rolling('1d').mean()\n",
        "df_rolling_mean.columns=[input_id]\n",
        "merged_df = df.join(df_rolling_mean)\n",
        "merged_df.plot()"
      ]
    },
    {
      "cell_type": "markdown",
      "id": "3ee8a591",
      "metadata": {
        "id": "smZZmtIMzmYs"
      },
      "source": [
        "As mentioned, we use data frames (not to be confused with pandas data frames) to send values to and from Clarify. [DataFrame](https://docs.clarify.io/reference#data-frame-1) separates time and values by having the same timestamps for all signal even though they might not have a value at a given timestamp. The backend handles this by not writing null values to Clarify.\n",
        "\n",
        "We take the index of the `pandas` data frame as timestamps and store them in an array called `times`, and convert the values to a dictionary called `series`. "
      ]
    },
    {
      "cell_type": "code",
      "execution_count": null,
      "id": "12481323",
      "metadata": {
        "colab": {
          "base_uri": "https://localhost:8080/"
        },
        "id": "I21lixW0tAGq",
        "outputId": "e1147a3a-7b2a-485a-f228-a546aad12321"
      },
      "outputs": [],
      "source": [
        "from pyclarify import DataFrame\n",
        "times = df_rolling_mean.index.values.tolist()\n",
        "series = df_rolling_mean.to_dict(orient=\"list\")\n",
        "new_df = DataFrame(times=times, series=series)\n",
        "print(new_df.series)"
      ]
    },
    {
      "cell_type": "markdown",
      "id": "b08d463e",
      "metadata": {
        "id": "nIpJOIO1nxcV"
      },
      "source": [
        "Then we send this newly created data frame to Clarify."
      ]
    },
    {
      "cell_type": "markdown",
      "id": "a922fc20",
      "metadata": {},
      "source": [
        "##### Using the Clarify Client"
      ]
    },
    {
      "cell_type": "code",
      "execution_count": null,
      "id": "f001eae8",
      "metadata": {},
      "outputs": [],
      "source": [
        "response = clarify_client.insert(new_df)\n",
        "print(response)"
      ]
    },
    {
      "cell_type": "markdown",
      "id": "f040c2c5",
      "metadata": {},
      "source": [
        "##### Using the Api Client"
      ]
    },
    {
      "cell_type": "code",
      "execution_count": null,
      "id": "60ecd812",
      "metadata": {
        "colab": {
          "base_uri": "https://localhost:8080/"
        },
        "id": "ZERi9XjT1XjY",
        "outputId": "c30959d5-ec0d-4ce1-cda4-1a23cb839de6"
      },
      "outputs": [],
      "source": [
        "response = api_client.insert(new_df)\n",
        "print(response)\n"
      ]
    },
    {
      "cell_type": "markdown",
      "id": "310190e8",
      "metadata": {
        "id": "oL3r7RTaEWNO"
      },
      "source": [
        "#### ENUMS\n",
        "Enums are a special type of input you can create that acts a little different. Enums are displayed as blocks of data with a single value. \n",
        "\n",
        "This makes it great for displaying events over a certain space of time. \n",
        "\n",
        "To keep things simple we will create 3 different enums for percentiles of the data. \n",
        "\n",
        "We follow the sampe procedure as above by first creating a new `Signal` and populating it with meta data. \n",
        "\n",
        "> Enums are stored as integers or rounded floats in Clarify. If you want to map these enums to strings e.g. `\"normal\"`, you can do so by specifying the `type` to be `\"enum\"` and setting `enumValues` to be a mapping."
      ]
    },
    {
      "cell_type": "markdown",
      "id": "6fdc316a",
      "metadata": {},
      "source": [
        "##### Using the Client Client"
      ]
    },
    {
      "cell_type": "code",
      "execution_count": null,
      "id": "61c9dc05",
      "metadata": {},
      "outputs": [],
      "source": [
        "# create signal\n",
        "percentile_signal_name = f\"{item_name}_percentile\"\n",
        "percentile_input_id = f\"{item_id}_percentile\"\n",
        "\n",
        "\n",
        "percentile_signal_meta_data = SignalInfo(\n",
        "    name=percentile_signal_name,\n",
        "    description=f\"Percentile enums of the signal {item_id}\",\n",
        "    labels={\n",
        "        \"percentiles\": [\"90\", \"75\"],\n",
        "        \"aggregated\": [True],\n",
        "        \"aggregated_from\": [item_id]\n",
        "    },\n",
        "    type=\"enum\",\n",
        "    enumValues={\n",
        "        \"0\": \"normal\",\n",
        "        \"1\": \"P75\",\n",
        "        \"2\": \"P95\"\n",
        "    }\n",
        ")\n",
        "\n",
        "response = clarify_client.save_signals(input_ids=[percentile_input_id], signals=[percentile_signal_meta_data], create_only=False)\n",
        "print(response)"
      ]
    },
    {
      "cell_type": "markdown",
      "id": "432481f9",
      "metadata": {},
      "source": [
        "##### Using the Api Client"
      ]
    },
    {
      "cell_type": "code",
      "execution_count": null,
      "id": "c68ed876",
      "metadata": {
        "id": "V9dy9Na32IxF"
      },
      "outputs": [],
      "source": [
        "# create signal\n",
        "percentile_signal_name = f\"{item_name}_percentile\"\n",
        "percentile_input_id = f\"{item_id}_percentile\"\n",
        "\n",
        "\n",
        "percentile_signal_meta_data = SignalInfo(\n",
        "    name=percentile_signal_name,\n",
        "    description=f\"Percentile enums of the signal {item_id}\",\n",
        "    labels={\n",
        "        \"percentiles\": [\"90\", \"75\"],\n",
        "        \"aggregated\": [True],\n",
        "        \"aggregated_from\": [item_id]\n",
        "    },\n",
        "    type=\"enum\",\n",
        "    enumValues={\n",
        "        \"0\": \"normal\",\n",
        "        \"1\": \"P75\",\n",
        "        \"2\": \"P95\"\n",
        "    }\n",
        ")\n",
        "\n",
        "save_enum_signal_request = {\n",
        "    \"inputs\":{\n",
        "        percentile_input_id : percentile_signal_meta_data\n",
        "    },\n",
        "    \"createOnly\":False\n",
        "}\n",
        "\n",
        "response = api_client.save_signals(save_enum_signal_request)\n",
        "print(response)"
      ]
    },
    {
      "cell_type": "markdown",
      "id": "3bc2ffdb",
      "metadata": {},
      "source": [
        "##### Enums mapping"
      ]
    },
    {
      "cell_type": "markdown",
      "id": "f324f43b",
      "metadata": {
        "id": "SxV7f4jZo4eP"
      },
      "source": [
        "Now lets create the values of the series. We will do so by using pandas [quantile](https://pandas.pydata.org/pandas-docs/stable/reference/api/pandas.DataFrame.quantile.html) method. "
      ]
    },
    {
      "cell_type": "code",
      "execution_count": null,
      "id": "0af0b2b7",
      "metadata": {
        "id": "1pdoDOq6EVbr"
      },
      "outputs": [],
      "source": [
        "# set all enums to be zero\n",
        "merged_df[percentile_input_id] = 0\n",
        "\n",
        "# set values above 75th percentile to be one\n",
        "percentile_75 = df.quantile(q=0.75).values[0]\n",
        "merged_df.loc[merged_df[item_id] > percentile_75, percentile_input_id] = 1\n",
        "\n",
        "\n",
        "# set values above 95th percentile to be two\n",
        "percentile_95 = df.quantile(q=0.95).values[0]\n",
        "merged_df.loc[merged_df[item_id] > percentile_95, percentile_input_id] = 2\n",
        "\n",
        "\n",
        "merged_df.plot()"
      ]
    },
    {
      "cell_type": "markdown",
      "id": "863b1400",
      "metadata": {
        "id": "-hqdf4ItoGTe"
      },
      "source": [
        "Again, we follow the same procedure as above by inserting into Clarify."
      ]
    },
    {
      "cell_type": "code",
      "execution_count": null,
      "id": "5d468f84",
      "metadata": {
        "colab": {
          "base_uri": "https://localhost:8080/"
        },
        "id": "ME2ioxus_Z1k",
        "outputId": "73ef255a-a721-4a93-fe6d-6ebeb8d0852f"
      },
      "outputs": [],
      "source": [
        "from pyclarify import DataFrame\n",
        "times = merged_df.index.values.tolist()\n",
        "series = {\n",
        "    percentile_input_id: merged_df[percentile_input_id].values.tolist()\n",
        "}\n",
        "new_df = DataFrame(times=times, series=series)\n",
        "print(new_df.series)"
      ]
    },
    {
      "cell_type": "code",
      "execution_count": null,
      "id": "ebb3d3d6",
      "metadata": {
        "colab": {
          "base_uri": "https://localhost:8080/"
        },
        "id": "uJLflOyk_aV_",
        "outputId": "f4737670-7fd7-4682-937b-3a583cbc089b"
      },
      "outputs": [],
      "source": [
        "response = clarify_client.insert(new_df)\n",
        "print(response)"
      ]
    },
    {
      "cell_type": "markdown",
      "id": "01ccc75e",
      "metadata": {
        "id": "e0aVzGa5TeUf"
      },
      "source": [
        "<a name=\"bonus\"></a>\n",
        "## Visualise the data in Clarify\n",
        "\n",
        "Once your data has been sent to Clarify, it should show up in the `Admin panel` as a `Signal` in your `Integration`.\n",
        "\n",
        "Publish your `Signal` to make it available as an `Item` in Clarify.\n"
      ]
    },
    {
      "cell_type": "markdown",
      "id": "c1420497",
      "metadata": {
        "id": "lN3L0Rjjv4ED"
      },
      "source": [
        "#### Publishing Signals\n",
        "To view the data we have added in Clarify we need to publish the `Signals`. \n",
        "\n",
        "<img src=\"https://raw.githubusercontent.com/clarify/data-science-tutorials/main/media/introduction/publish_signals.gif\" alt=\"publishing signals\">\n",
        "\n",
        "1. Go to Admin -> Integrations\n",
        "2. Click `Show Signals`\n",
        "3. Click on a newly created signal\n",
        "4. Click `Publish`\n",
        "\n",
        "\n",
        "You can also publish signals through the SDK."
      ]
    },
    {
      "cell_type": "markdown",
      "id": "ffe2a52b",
      "metadata": {},
      "source": [
        "##### Using the Clarify Client"
      ]
    },
    {
      "cell_type": "code",
      "execution_count": null,
      "id": "d08636c3",
      "metadata": {},
      "outputs": [],
      "source": [
        "from pyclarify import Item\n",
        "\n",
        "# pass some metadata from the signal to the item\n",
        "data_source = \"my data source\"\n",
        "location = [\"Trondheim\", \"Norway\"]\n",
        "\n",
        "if \"data-source\" in meta_data.labels.keys():\n",
        "  data_source = meta_data.labels[\"data-source\"]\n",
        "\n",
        "if \"location\" in meta_data.labels.keys():\n",
        "  location = meta_data.labels[\"location\"]\n",
        "\n",
        "percentile_item_meta_data = Item(\n",
        "    name=\"Percentile Enums\",\n",
        "    description=f\"Percentile enums of the signal {item_id}\",\n",
        "    labels={\n",
        "        \"location\": location,\n",
        "        \"data-source\": data_source,\n",
        "        \"percentiles\": [\n",
        "            \"90\", \n",
        "            \"75\", \n",
        "            \"normal\"\n",
        "        ],\n",
        "        \"aggregated\": [True],\n",
        "        \"aggregated_from\": [item_id],\n",
        "        \"published_automatically\": [True],\n",
        "        \"SDK_version\": [\"0.2.2\"]\n",
        "    },\n",
        "    type=\"enum\",\n",
        "    enumValues={\n",
        "        \"0\": \"normal\",\n",
        "        \"1\": \"P75\",\n",
        "        \"2\": \"P95\"\n",
        "    },\n",
        "    gapDetection= \"PT1H\",\n",
        "    visible=True\n",
        ")\n",
        "\n",
        "response = clarify_client.publish_signals(signal_ids=[signal_id], items=[percentile_item_meta_data], create_only=False)\n",
        "\n",
        "print(response)"
      ]
    },
    {
      "cell_type": "markdown",
      "id": "e16d7e2e",
      "metadata": {},
      "source": [
        "##### Using the Api Client"
      ]
    },
    {
      "cell_type": "code",
      "execution_count": null,
      "id": "dcda0d2a",
      "metadata": {},
      "outputs": [],
      "source": [
        "# pass some metadata from the signal to the item\n",
        "data_source = \"my data source\"\n",
        "location = [\"Trondheim\", \"Norway\"]\n",
        "\n",
        "if \"data-source\" in meta_data.labels.keys():\n",
        "  data_source = meta_data.labels[\"data-source\"]\n",
        "\n",
        "if \"location\" in meta_data.labels.keys():\n",
        "  location = meta_data.labels[\"location\"]\n",
        "\n",
        "percentile_item_meta_data = SignalInfo(\n",
        "    name=\"Percentile Enums\",\n",
        "    description=f\"Percentile enums of the signal {item_id}\",\n",
        "    labels={\n",
        "        \"location\": location,\n",
        "        \"data-source\": data_source,\n",
        "        \"percentiles\": [\n",
        "            \"90\", \n",
        "            \"75\", \n",
        "            \"normal\"\n",
        "        ],\n",
        "        \"aggregated\": [True],\n",
        "        \"aggregated_from\": [item_id],\n",
        "        \"published_automatically\": [True],\n",
        "        \"SDK_version\": [\"0.2.2\"]\n",
        "    },\n",
        "    type=\"enum\",\n",
        "    enumValues={\n",
        "        \"0\": \"normal\",\n",
        "        \"1\": \"P75\",\n",
        "        \"2\": \"P95\"\n",
        "    },\n",
        "    gapDetection= \"PT1H\"\n",
        ")\n",
        "response = api_client.publish_signals(\n",
        "    params={\n",
        "        \"itemsBySignal\": {signal_id: percentile_item_meta_data},\n",
        "        \"createOnly\": False,\n",
        "    }\n",
        ")\n",
        "\n",
        "print(response)"
      ]
    },
    {
      "cell_type": "markdown",
      "id": "e448adf2",
      "metadata": {
        "id": "beq3FPc5A-uT"
      },
      "source": [
        "### Creating a timeline\n",
        "\n",
        "Now that all your newly created data is available you can create your very own timeline. \n",
        "\n",
        "<img src=\"https://raw.githubusercontent.com/clarify/data-science-tutorials/main/media/introduction/create_timeline.gif\" alt=\"Getting credentials\">\n",
        "\n",
        "Steps:\n",
        "1. Go to Admin -> Items\n",
        "2. Select newly published Item\n",
        "3. Click `Open in Clarify`\n",
        "4. Click `Open in New Timeline`\n",
        "5. Add other Items by searching in the menu.\n"
      ]
    },
    {
      "cell_type": "markdown",
      "id": "3c6814a5",
      "metadata": {
        "id": "8QRIVsigB8X-"
      },
      "source": [
        "**Where to go next**\n",
        "\n",
        "*   [Forecasting](https://colab.research.google.com/github/clarify/data-science-tutorials/blob/main/tutorials/Forecasting.ipynb)\n",
        "*   [Pattern Recognition](https://colab.research.google.com/github/clarify/data-science-tutorials/blob/main/tutorials/Pattern%20Recognition.ipynb)\n",
        "*   [Hosting with Google Cloud](https://colab.research.google.com/github/clarify/data-science-tutorials/blob/main/tutorials/Google%20Cloud%20Hosting.ipynb)"
      ]
    }
  ],
  "metadata": {
    "colab": {
      "collapsed_sections": [],
      "name": "Welcome to PyClarify",
      "provenance": [],
      "toc_visible": true
    },
    "kernelspec": {
      "display_name": "Python 3",
      "name": "python3"
    },
    "language_info": {
      "codemirror_mode": {
        "name": "ipython",
        "version": 3
      },
      "file_extension": ".py",
      "mimetype": "text/x-python",
      "name": "python",
      "nbconvert_exporter": "python",
      "pygments_lexer": "ipython3",
      "version": "3.9.9"
    }
  },
  "nbformat": 4,
  "nbformat_minor": 5
}
