{
 "cells": [
  {
   "cell_type": "markdown",
   "metadata": {},
   "source": [
    "![Clarify Logo](https://global-uploads.webflow.com/5e81e464dad44d3a9a32d1f4/5ed10fc3f1ff8467f4466786_logo.svg)\n",
    "\n",
    "# Welcome to the Pattern Recognition tutorial using Data Science algorithms with Clarify! 🤹\n",
    "\n",
    "<img src=\"https://raw.githubusercontent.com/clarify/data-science-tutorials/main/media/pattern_recognition/patterns.png\" alt=\"Additional Options\"  />"
   ]
  },
  {
   "cell_type": "markdown",
   "metadata": {},
   "source": [
    "## Prerequisites \n",
    "This tutorial picks up where [basic tutorial on using Python with Clarify](https://colab.research.google.com/github/clarify/data-science-tutorials/blob/main/tutorials/Introduction.ipynb) leaves off, diving more deeply into how to discover patterns in your data and how to visualise them in [Clarify](https://www.clarify.io).\n"
   ]
  },
  {
   "cell_type": "markdown",
   "metadata": {},
   "source": [
    "## What we will do\n",
    "\n",
    "1. [Read and plot item data from Clarify](#read)\n",
    "2. [Apply a Pattern Recognition Algorithm](#apply)\n",
    "3. [Create Patterns](#create)\n",
    "4. [Write signal data and metadata to Clarify](#write)\n",
    "5. [Publish Signals to create Items](#publish)\n",
    "3. [Visualise the results in Clarify](#visualise)\n",
    "\n",
    "---\n",
    "Other resources:\n",
    "* [Basic tutorial on using Python with Clarify](https://colab.research.google.com/github/clarify/data-science-tutorials/blob/main/tutorials/Introduction.ipynb)\n",
    "* [API reference](https://docs.clarify.io/reference/http)\n",
    "* [SDK documentation](https://clarify.github.io/pyclarify/)\n",
    "* [Pattern Recognition algorithm](https://matrixprofile.org)"
   ]
  },
  {
   "cell_type": "markdown",
   "metadata": {},
   "source": [
    "<a name=\"read\"></a>\n",
    "# Read and plot item data from Clarify\n",
    "\n",
    "<img src=\"https://raw.githubusercontent.com/clarify/data-science-tutorials/main/media/pattern_recognition/readdata.png\" alt=\"clarify illustration\"  />"
   ]
  },
  {
   "cell_type": "markdown",
   "metadata": {},
   "source": [
    "## Read Item data\n",
    "\n",
    "\n",
    "First we need to install some packages, like PyClarify. [PyClarify](https://pypi.org/project/pyclarify/) gives you a fast and easy way to get your data from Clarify and write data back. This way you can analyze your data - for example apply a pattern recognition algorithm - and write back your results. \n",
    "\n",
    "> The specifics of how to use PyClarify is in the \"Basic tutorial on using Python with Clarify\" which you can find [here](https://colab.research.google.com/github/clarify/data-science-tutorials/blob/main/tutorials/Introduction.ipynb). Therefore we will just briefly mention what the methods do, without going into details. "
   ]
  },
  {
   "cell_type": "code",
   "execution_count": null,
   "metadata": {},
   "outputs": [],
   "source": [
    "!pip install pyclarify\n",
    "!pip install numpy\n",
    "!pip install matrixprofile\n",
    "!pip install plotly\n",
    "!pip install --upgrade nbformat\n",
    "!pip install pandas\n"
   ]
  },
  {
   "cell_type": "code",
   "execution_count": null,
   "metadata": {},
   "outputs": [],
   "source": [
    "import datetime\n",
    "from pyclarify import APIClient, SignalInfo, DataFrame\n",
    "import plotly.graph_objects as go\n",
    "import plotly.express as px\n",
    "import math"
   ]
  },
  {
   "cell_type": "markdown",
   "metadata": {},
   "source": [
    "Download your credentials, choose an item for which you want to discover patterns of interest and copy the item id. To read the item data for the dates that want you, choose a start date and an end date.\n",
    "\n",
    "From the APIClient class you can use the `select_item` method to get the items data and metadata. You can use the filter parameter choose one or more items."
   ]
  },
  {
   "cell_type": "code",
   "execution_count": null,
   "metadata": {},
   "outputs": [],
   "source": [
    "client = APIClient(\"./clarify-credentials.json\")\n",
    "\n",
    "# Add the item id, start date and end date\n",
    "item_id = \"<item-id>\"\n",
    "start_date = \"<stating date>\"   # example: \"2021-04-17T03:22:06Z\"\n",
    "end_date = \"<ending date>\"      # example: \"2021-08-12T22:00:06Z\"\n",
    "\n",
    "# The API returns data with a window of 40 days. \n",
    "# For this reason we will create multiple calls using 'blocks' of dates.\n",
    "start = datetime.datetime.strptime(start_date,\"%Y-%m-%dT%H:%M:%SZ\")\n",
    "end = datetime.datetime.strptime(end_date,\"%Y-%m-%dT%H:%M:%SZ\")\n",
    "dt = end - start\n",
    "\n",
    "hours = dt.days * 24  + dt.seconds//3600 + 1\n",
    "blocks = math.ceil(hours / 960)\n",
    "delta = (end - start)/blocks\n",
    "\n",
    "date_list = [start.strftime(\"%Y-%m-%dT%H:%M:%S\")+'Z']\n",
    "\n",
    "for block in range(1, blocks + 1):\n",
    "    time = (start + block * delta).strftime(\"%Y-%m-%dT%H:%M:%S\")+'Z'\n",
    "    date_list.append(time)\n",
    "\n",
    "values = []\n",
    "dates = []\n",
    "\n",
    "for date in range(len(date_list)-1):\n",
    "\n",
    "    params = {\n",
    "        \"items\": {\"include\": False, \"filter\": {\"id\": {\"$in\": [item_id]}}},                    # items -> include = False : don't include metadata\n",
    "        \"data\": {\"include\": True , \"notBefore\": date_list[date], \"before\": date_list[date+1]} # data  -> include = True : include data\n",
    "    }\n",
    "\n",
    "    # Get signal data\n",
    "    response = client.select_items(params=params)\n",
    "    \n",
    "    # Pass data in a list\n",
    "    values.extend(list(response.result.data.series.values())[0])\n",
    "    dates.extend(response.result.data.times)"
   ]
  },
  {
   "cell_type": "markdown",
   "metadata": {},
   "source": [
    "## Plot your data \n",
    "When running the cell below, you shoud see a similar plot as you see it Clarify. Keep in mind that the plot shape slidely changes as you zoom in and out in Clarify."
   ]
  },
  {
   "cell_type": "code",
   "execution_count": null,
   "metadata": {},
   "outputs": [],
   "source": [
    "fig = go.Figure([go.Scatter(x=dates, y=values )])\n",
    "fig.show()"
   ]
  },
  {
   "cell_type": "markdown",
   "metadata": {},
   "source": [
    "Time to mark the pattern of interest, also called _query_, in the plot.\n",
    "\n",
    "Define start and end date of the query. The key here is to be specific. \n",
    "Zoom in your plot to get the exact date and time."
   ]
  },
  {
   "cell_type": "code",
   "execution_count": null,
   "metadata": {},
   "outputs": [],
   "source": [
    "# Example of start_date and end_date:\n",
    "# print(dates) \n",
    "start_date = datetime.datetime(2021, 11, 21, 14, 55, 59,  tzinfo=datetime.timezone.utc)\n",
    "end_date = datetime.datetime(2021, 11, 21, 14, 56, 27, tzinfo=datetime.timezone.utc)\n",
    "\n",
    "# Asserting that start date and end date is in the array dates (both should be true)\n",
    "print(start_date in dates)\n",
    "print(end_date in dates)\n",
    "\n",
    "# Find index\n",
    "start = dates.index(start_date)\n",
    "end = dates.index(end_date)\n",
    "\n",
    "# Query of interest\n",
    "query_values = values[start : end]\n",
    "query_dates = dates[start : end]\n",
    "\n",
    "fig = go.Figure()\n",
    "fig.add_trace(go.Scatter(x=dates, y=values,\n",
    "                    mode='lines',\n",
    "                    name='data'))\n",
    "\n",
    "fig.add_trace(go.Scatter(x=query_dates, y=query_values,\n",
    "                    mode='lines',\n",
    "                    name='pattern'))\n",
    "\n",
    "fig.show()"
   ]
  },
  {
   "cell_type": "markdown",
   "metadata": {},
   "source": [
    "<a name=\"apply\"></a>\n",
    "# Apply a Pattern Recognition Algorithm\n",
    "To make life easer for you, we have already written some code which finds matching patterns."
   ]
  },
  {
   "cell_type": "code",
   "execution_count": null,
   "metadata": {},
   "outputs": [],
   "source": [
    "# To find the patterns we use the mass2 algorithm from the matrix profile foundation: \n",
    "# Website: https://matrixprofile.org\n",
    "# Github repo: https://github.com/matrix-profile-foundation/matrixprofile\n",
    "\n",
    "import numpy as np\n",
    "from matrixprofile.algorithms import mass2\n",
    "\n",
    "\n",
    "def percentage(percent, number):\n",
    "    \"\"\"\n",
    "    Calculates the percentage of a number.\n",
    "\n",
    "    Parameters\n",
    "    ----------\n",
    "    percent : int\n",
    "        Specifying the percentage from a number\n",
    "    number : float64\n",
    "        Number for which to calculate the percentage\n",
    "\n",
    "    Returns\n",
    "    -------\n",
    "    float64\n",
    "        Percentage of a number.\n",
    "    \"\"\"\n",
    "\n",
    "    return (percent * number) / 100\n",
    "\n",
    "\n",
    "def limits_query(query, percent_min, percent_max):\n",
    "    \"\"\"\n",
    "    Calculates the percentages of the minimum and maximum value of the query.\n",
    "\n",
    "    Parameters\n",
    "    ----------\n",
    "    query : Series\n",
    "        Specific time series query\n",
    "    percent_min : int\n",
    "        Specifying the percentage from the minimum value of the query\n",
    "    percent_max : int\n",
    "        Specifying the percentage from the maximum value of the query\n",
    "\n",
    "    Returns\n",
    "    -------\n",
    "    list of float64\n",
    "        1D list with the percentages of two numbers\n",
    "    \"\"\"\n",
    "\n",
    "    minimum = np.amin(query)\n",
    "    maximum = np.amax(query)\n",
    "\n",
    "    return [minimum - (percent_min * minimum)/100, maximum + (percent_max * maximum)/100]\n",
    "\n",
    "\n",
    "def find_pattern_index(mass, limit, ex_zone, loop, d=None):\n",
    "    \"\"\"\n",
    "    Find pattern index.\n",
    "\n",
    "    Parameters\n",
    "    ----------\n",
    "    mass : numpy.ndarray\n",
    "        1D array containing the mass values\n",
    "    ex_zone : int, default m - (m//10)\n",
    "        Amount of overlap (use m for zero overlap)\n",
    "    limit : int\n",
    "        Number of patterns to discover\n",
    "\n",
    "    Returns\n",
    "    -------\n",
    "    numpy.ndarray\n",
    "        1D array with indexes of the pattern starting locations\n",
    "    \"\"\"\n",
    "\n",
    "    limit = len(mass) if limit > len(mass) else limit\n",
    "    mass_cop = np.copy(mass)\n",
    "\n",
    "    if d is not None:\n",
    "        start = len(d) \n",
    "        z = np.zeros(limit - start, dtype='int')  \n",
    "        d = np.hstack((d, z))\n",
    "\n",
    "    else:\n",
    "        d = np.zeros(limit, dtype='int')   \n",
    "        start = 0      \n",
    "\n",
    "    for i in range(start, limit):\n",
    "        minVal = np.inf\n",
    "        minIdx = -1\n",
    "        for j, val in enumerate(mass_cop):\n",
    "            if not np.isinf(val) and val < minVal and val != -1:\n",
    "                minVal = val\n",
    "                minIdx = j\n",
    "        d[i] = minIdx\n",
    "        mass_cop[max([minIdx - ex_zone, 0]):min([minIdx + ex_zone, len(mass_cop)])] = np.inf\n",
    "\n",
    "    if loop:\n",
    "        return mass_cop, d\n",
    "\n",
    "    return d\n",
    "\n",
    "\n",
    "def constraints(query, ts, patterns, percent_var=40, percent_min=100, percent_max=100):\n",
    "    \"\"\"\n",
    "    Removes patterns which don't follow our constrains-restrictions. For the combination percent_var = 0,\n",
    "    percent_min = 100, percent_max = 100 we don't have any constrains and we get all the patterns which were found.\n",
    "\n",
    "    Parameters\n",
    "    ----------\n",
    "    query : Series\n",
    "        Specific time series query.\n",
    "    ts : Series\n",
    "        Time series containing the query.\n",
    "    patterns : array_like of int\n",
    "        Output from _remove_overlaps. 1D array with the indexes of the pattern starting locations.\n",
    "    percent_var : int, default 40\n",
    "        Constrain No1 : specifying the variance (height) of the patterns that we want to find by using the variance of\n",
    "        the query and calculating the percentage of it. If percent_var = 0 we have no constrains, if percent_var = 100\n",
    "        we have patterns which have the same or higher variance from the query.\n",
    "    percent_min : int, default 100\n",
    "        Constrain No2 : specifying the lower limit of the patterns by using percentage. If percent_min = 0 the patterns\n",
    "        that we find will be at the same level or higher than the query. If percent_min = 100 we have no constrains.\n",
    "    percent_max : int, default 100\n",
    "        Constrain No3 : specifying the upper limit of the patterns by using percentage. If percent_max = 0 the patterns\n",
    "        that we find will be at the same level or lower than the query. If percent_min = 100 we have no constrain.\n",
    "\n",
    "    Returns\n",
    "    -------\n",
    "    list of int\n",
    "        1D list with the indexes of the pattern.\n",
    "    \"\"\"\n",
    "\n",
    "    var_threshold = percentage(percent_var, np.var(query))\n",
    "    limits = limits_query(query, percent_min, percent_max)\n",
    "\n",
    "    new_patterns = []\n",
    "\n",
    "    for pattern in patterns:\n",
    "        patt = ts[pattern: pattern + len(query)]\n",
    "        if (pattern != -1) and np.amin(patt) >= limits[0] and np.amax(patt) <= limits[1] and \\\n",
    "                np.var(patt) >= var_threshold:\n",
    "            new_patterns.append(pattern)\n",
    "\n",
    "    return new_patterns\n",
    "\n",
    "\n",
    "def get_patterns(query, ts, limit, percent_var=40, percent_min=100, percent_max=100, ex_zone=None, loop=False):\n",
    "    \"\"\"\n",
    "    Discovers the best matching patterns in ts.\n",
    "\n",
    "    Parameters\n",
    "    ----------\n",
    "    query : numpy array\n",
    "        Specific time series query.\n",
    "    ts : numpy array\n",
    "        Time series to compare the query against.\n",
    "    limit : int\n",
    "        The number of patterns to discover.\n",
    "    percent_var : int, default 40\n",
    "        Constrain No1 : specifying the variance (height) of the patterns that we want to find by using the variance of\n",
    "        the query and calculating the percentage of it. If percent_var = 0 we have no constrains, if percent_var = 100\n",
    "        we have patterns which have the same or higher variance from the query.\n",
    "    percent_min : int, default 100\n",
    "        Constrain No2 : specifying the lower limit of the patterns by using percentage. If percent_min = 0 the patterns\n",
    "        that we find will be at the same level or higher than the query. If percent_min = 100 we have no constrains.\n",
    "    percent_max : int, default 100\n",
    "        Constrain No3 : specifying the upper limit of the patterns by using percentage. If percent_max = 0 the patterns\n",
    "        that we find will be at the same level or lower than the query. If percent_min = 100 we have no constrain.\n",
    "    ex_zone : int, default m - (m//10)\n",
    "        Amount of overlap.\n",
    "    loop:\n",
    "        If set to True, the function will increase the limit if the number of pattern it found is smaller than limit. \n",
    "        If set to False, if 'n' number of patterns are removed from the constraints, the functions returns limit-n patterns. \n",
    "\n",
    "    Returns\n",
    "    -------\n",
    "    list of dict of {str : int}\n",
    "        A 1D list of dictionaries with \"start\" and \"end\" indexes of the recognized patterns.\n",
    "    \"\"\"\n",
    "\n",
    "    m = len(query)\n",
    "\n",
    "    if ex_zone is None:\n",
    "        ex_zone = m - (m//10)\n",
    "\n",
    "    mass = mass2(ts, query)\n",
    "    pattern_number = 0\n",
    "\n",
    "    if loop:\n",
    "        cop_mass, patterns = find_pattern_index(mass, limit, ex_zone, loop)\n",
    "        patterns = constraints(query, ts, patterns, percent_var, percent_min, percent_max)\n",
    "        pattern_number = len(patterns)\n",
    "\n",
    "        if pattern_number < limit:\n",
    "            for attempt in range(2):\n",
    "                new_limit = limit + (limit - pattern_number + attempt)\n",
    "                cop_mass, patterns = find_pattern_index(cop_mass, new_limit, ex_zone, loop, patterns)\n",
    "                patterns = constraints(query, ts, patterns, percent_var, percent_min, percent_max)\n",
    "                if pattern_number >= limit:\n",
    "                    break\n",
    "    \n",
    "    else:\n",
    "        patterns = find_pattern_index(mass, limit, ex_zone, loop)\n",
    "        patterns = constraints(query, ts, patterns, percent_var, percent_min, percent_max)\n",
    "\n",
    "    \n",
    "    return [{\"start\": int(i), \"end\": int(i)+m} for i in patterns]"
   ]
  },
  {
   "cell_type": "markdown",
   "metadata": {},
   "source": [
    "<a name=\"create\"></a>\n",
    "# Create Patterns\n",
    "\n",
    "To create patterns using a query, we will use the `get_patterns` function created in the cell above. \n",
    "\n",
    "\n",
    "<img src=\"https://raw.githubusercontent.com/clarify/data-science-tutorials/main/media/pattern_recognition/pattern.png\" alt=\"clarify illustration\"  />\n",
    "\n",
    "Feel free to change the parameters of the `get_patterns` function. You will notice that the returned patterns will change! \n",
    "Change the values of: `limit`, `percent_var`, `percent_min`, `percent_max` and `loop` to make the algorithm more or less strict depending on your needs."
   ]
  },
  {
   "cell_type": "code",
   "execution_count": null,
   "metadata": {},
   "outputs": [],
   "source": [
    "index_of_pattern = get_patterns(query = query_values, ts = values, limit = 40, percent_var= 50 , percent_min=50, percent_max= 40, loop=True, ex_zone=len(query_values))\n",
    "index_of_pattern"
   ]
  },
  {
   "cell_type": "markdown",
   "metadata": {},
   "source": [
    "Once you found some patterns, it is time to plot them."
   ]
  },
  {
   "cell_type": "code",
   "execution_count": null,
   "metadata": {},
   "outputs": [],
   "source": [
    "fig = go.Figure()\n",
    "fig.add_trace(go.Scatter(x=dates, y=values,\n",
    "                    mode='lines',\n",
    "                    name='data'))\n",
    "\n",
    "for pattern in range(len(index_of_pattern)):\n",
    "    start = list(index_of_pattern[pattern].values())[0]\n",
    "    end = list(index_of_pattern[pattern].values())[1]\n",
    "\n",
    "    fig.add_trace(go.Scatter(x=dates[start:end], y=values[start:end],\n",
    "                        mode='lines',\n",
    "                        name=f'pattern {pattern + 1}'))\n",
    "\n",
    "\n",
    "fig.show()"
   ]
  },
  {
   "cell_type": "markdown",
   "metadata": {},
   "source": [
    "<a name=\"write\"></a>\n",
    "# Write signal data and metadata to Clarify\n",
    "\n",
    "If you are satisfied with your results, you can send your patterns to Clarify, share your knowledge and make comments about what you discovered! \n",
    "\n",
    "To do that, create two lists. One with all your `pattern values` and one with the [`enums`](https://colab.research.google.com/github/clarify/data-science-tutorials/blob/main/tutorials/Introduction.ipynb#write). For the enums we will use 0-1 values. The value 0 will represent that there is no pattern, and 1 that there is a pattern.\n"
   ]
  },
  {
   "cell_type": "code",
   "execution_count": null,
   "metadata": {},
   "outputs": [],
   "source": [
    "pattern_values = []\n",
    "enum_values = []\n",
    "pattern_dates = []\n",
    "previous_end = 0\n",
    "\n",
    "index_of_pattern = sorted(index_of_pattern, key = lambda i: i['start'])\n",
    "\n",
    "for pattern in range(len(index_of_pattern)):\n",
    "    start = list(index_of_pattern[pattern].values())[0]\n",
    "    end = list(index_of_pattern[pattern].values())[1]\n",
    "\n",
    "    if start == 0:\n",
    "        enum_values.extend([0] * (start - previous_end))\n",
    "        enum_values.extend([1] * (end - start))\n",
    "    else:\n",
    "        enum_values.extend([0] * (start - previous_end - 1))\n",
    "        enum_values.extend([1] * (end - start + 1))\n",
    "\n",
    "    pattern_values.extend([None] * (start - previous_end))\n",
    "    pattern_values.extend( values[start:end] )\n",
    "    \n",
    "    previous_end = end\n",
    "\n",
    "    # for plots\n",
    "    pattern_dates.extend(dates[start:end])\n",
    "\n",
    "enum_values.extend([0] * (len(values) - previous_end))\n",
    "pattern_values.extend([None] * (len(values) - previous_end))"
   ]
  },
  {
   "cell_type": "markdown",
   "metadata": {},
   "source": [
    "Let's make sure that everything is correct and that these are indeed the pattern that you want."
   ]
  },
  {
   "cell_type": "code",
   "execution_count": null,
   "metadata": {},
   "outputs": [],
   "source": [
    "patt = [i for i in pattern_values if i!=None]\n",
    "fig = px.line(x=pattern_dates, y=patt)\n",
    "fig.show()"
   ]
  },
  {
   "cell_type": "code",
   "execution_count": null,
   "metadata": {},
   "outputs": [],
   "source": [
    "# Zero values indicate that there are no patterns in the time series.\n",
    "# One values indicate that there is a matching pattern. \n",
    "fig = px.scatter(x=dates, y=enum_values)\n",
    "fig.show()"
   ]
  },
  {
   "cell_type": "markdown",
   "metadata": {},
   "source": [
    "If everything looks good, you are good to go with writing your pattern data back to Clarify, using the `insert` method.\n",
    "\n",
    "Add some metadata to include information about your data and to make it easer to find your signal using the `save_signals` method.\n",
    "\n",
    "Add your singal name of your choice, a description of your data, some labels, add a gap detection to make it easy so detect gaps in your data, add labels, an engineering unit and many more. \n",
    "For more information about signal metadata click [here](https://docs.clarify.io/reference/signal)"
   ]
  },
  {
   "cell_type": "code",
   "execution_count": null,
   "metadata": {},
   "outputs": [],
   "source": [
    "# Choose an input id for your two signals\n",
    "input_pattern_id = \"<input_pattern_id>\"\n",
    "input_enum_id = \"<input_enum_id>\"\n",
    "\n",
    "# Example of adding signal metadata\n",
    "pattern_metadata = SignalInfo(name=\"Pattern Data\", description=\"Pattern for passing bikes item\", labels={\"data-source\": [\"ML on passing bikes data\"], \"location\":[\"Data Science Analysis Office\"],  \"Pattern\": [\"Passing Bikes\"]}, gapDetection=\"PT1H\", engUnit=\"nbr/h\")\n",
    "enum_metadata = SignalInfo(name=\"Enum for Pattern Data\", description=\"Enum pattern for passing bikes item\", labels={\"data-source\": [\"ML on passing bikes data\"], \"location\":[\"Data Science Analysis Office\"],  \"Pattern\": [\"Passing Bikes\"]},  type='enum', enumValues = {0: \" \", 1: \"Pattern\"})\n",
    "\n",
    "save_signals_response = client.save_signals(params={\"inputs\": {input_pattern_id: pattern_metadata, input_enum_id: enum_metadata}, \"createOnly\": False})\n",
    "\n",
    "data = DataFrame(\n",
    "     times=dates,\n",
    "     series={input_pattern_id: pattern_values, input_enum_id: enum_values},\n",
    ")\n",
    "\n",
    "insert_response = client.insert(data=data)\n",
    "\n",
    "print(f\"save signals response: {save_signals_response} \\n insert response: {insert_response}\")\n"
   ]
  },
  {
   "cell_type": "markdown",
   "metadata": {},
   "source": [
    "<a name=\"publish\"></a>\n",
    "# Publish Signals to create Items\n",
    "\n",
    "Publish your signals to create Items. Go to [Clarify](https://clarifyapp.clarify.io/), find the integration which you used to download your credentials, click on view signals, find your signal, scroll down to  __System info__ and copy paste the signal id.\n",
    "\n",
    "\n",
    "For more information how to do that click [here](https://github.com/clarify/data-science-tutorials/blob/main/tutorials/Introduction.ipynb)."
   ]
  },
  {
   "cell_type": "code",
   "execution_count": null,
   "metadata": {},
   "outputs": [],
   "source": [
    "response = client.publish_signals(\n",
    "    params={\n",
    "        \"itemsBySignal\": {\"<signal_pattern_id>\": pattern_metadata, \"<signal_enum_id>\": enum_metadata},\n",
    "        \"createOnly\": False,\n",
    "    }\n",
    ")\n",
    "print(response.json())"
   ]
  },
  {
   "cell_type": "markdown",
   "metadata": {},
   "source": [
    "Under Items you can see your newly created Items.\n",
    "\n",
    "<img src=\"https://raw.githubusercontent.com/clarify/data-science-tutorials/main/media/pattern_recognition/Items.png\" alt=\"Add Items in Your Timeline\" width= \"600px;\" />"
   ]
  },
  {
   "cell_type": "markdown",
   "metadata": {},
   "source": [
    "<a name=\"visualise\"></a>\n",
    "# Visualise the results in Clarify\n",
    "\n",
    "The last chapter of the [Introduction](https://colab.research.google.com/github/clarify/data-science-tutorials/blob/main/tutorials/Introduction.ipynb) tutorial called [\"Visualise the data in Clarify\"](https://colab.research.google.com/github/clarify/data-science-tutorials/blob/main/tutorials/Introduction.ipynb#bonus) describes all the steps needed to see your data in a Timeline. For a refresher, click [here](https://colab.research.google.com/github/clarify/data-science-tutorials/blob/main/tutorials/Introduction.ipynb). This section describes how you can visualise your own ML results in a powerful way in Clarify. "
   ]
  },
  {
   "cell_type": "markdown",
   "metadata": {},
   "source": [
    "## Add Data and share your Timeline\n",
    "\n",
    "Create a Timeline with the new items. For more information how to do that [here](hhttps://colab.research.google.com/github/clarify/data-science-tutorials/blob/main/tutorials/Introduction.ipynb#bonus).\n",
    "\n",
    "Share your timeline with selected or all members of your organization"
   ]
  },
  {
   "cell_type": "markdown",
   "metadata": {},
   "source": [
    "<img src=\"https://raw.githubusercontent.com/clarify/data-science-tutorials/main/media/pattern_recognition/item.png\" alt=\"Add Items in Your Timeline\" width= \"500px;\" />"
   ]
  },
  {
   "cell_type": "markdown",
   "metadata": {},
   "source": [
    "## Customize your Timeline"
   ]
  },
  {
   "cell_type": "markdown",
   "metadata": {},
   "source": [
    "1. Click on the bottom right icon in your timeline. From there you can cosumize the looks of your timeline!\n",
    "2. Add colors, change names, hide or reveal items.\n",
    "\n",
    "<img src=\"https://raw.githubusercontent.com/clarify/data-science-tutorials/main/media/pattern_recognition/customize.gif\" alt=\"Customize your Timeline\">"
   ]
  },
  {
   "cell_type": "markdown",
   "metadata": {},
   "source": [
    "> Tip: More customization can be done by clicking on the item name above the ploted data. \n",
    "\n",
    "<table><tr>\n",
    "<td> <img src=\"https://raw.githubusercontent.com/clarify/data-science-tutorials/main/media/pattern_recognition/tip_1.png\" alt=\"Additional Options\" width= \"1000px;\"> </td>\n",
    "</tr></table>"
   ]
  },
  {
   "cell_type": "markdown",
   "metadata": {},
   "source": [
    "## Add Comments"
   ]
  },
  {
   "cell_type": "markdown",
   "metadata": {},
   "source": [
    "Share your knowledge and discoveries!\n",
    "You can select a period to add comment, labels and images.\n",
    "\n",
    "<img src=\"https://raw.githubusercontent.com/clarify/data-science-tutorials/main/media/pattern_recognition/comments.gif\" alt=\"Add Comments\">\n"
   ]
  },
  {
   "cell_type": "markdown",
   "metadata": {},
   "source": [
    "> Tip: Once you select a period in your timeline you can also view statistics and export data from that period! \n",
    "\n",
    "<table class=\"center\"><tr>\n",
    "<td> <img src=\"https://raw.githubusercontent.com/clarify/data-science-tutorials/main/media/pattern_recognition/tip3.png\" alt=\"Additional Options\" width=\"400px;\" /> </td>\n",
    "<td> <img src=\"https://raw.githubusercontent.com/clarify/data-science-tutorials/main/media/pattern_recognition/tip4.png\" alt=\"View Statistics\" width=\"400px;\"/> </td>\n",
    "</tr></table>\n"
   ]
  },
  {
   "cell_type": "markdown",
   "metadata": {},
   "source": [
    "**Where to go next**\n",
    "\n",
    "* [Forecasting](https://colab.research.google.com/github/clarify/data-science-tutorials/blob/main/tutorials/Forecasting.ipynb)\n",
    "* [Google Cloud Hosting](https://colab.research.google.com/github/clarify/data-science-tutorials/blob/main/tutorials/Google%20Cloud%20Hosting.ipynb)"
   ]
  }
 ],
 "metadata": {
  "interpreter": {
   "hash": "22d9145103b8862d9ccfc235958fdf9b7710a5d8a12b05a9bd35f3dbc4b96e81"
  },
  "kernelspec": {
   "display_name": "Python 3.9.6 64-bit ('ds_tutorials': venv)",
   "name": "python3"
  },
  "language_info": {
   "codemirror_mode": {
    "name": "ipython",
    "version": 3
   },
   "file_extension": ".py",
   "mimetype": "text/x-python",
   "name": "python",
   "nbconvert_exporter": "python",
   "pygments_lexer": "ipython3",
   "version": "3.9.6"
  },
  "orig_nbformat": 4
 },
 "nbformat": 4,
 "nbformat_minor": 2
}
